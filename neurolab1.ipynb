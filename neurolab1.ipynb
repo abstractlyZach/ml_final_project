{
 "metadata": {
  "name": "",
  "signature": "sha256:00745ff17bb3d34e62cc1678007adf57be7303e4181cf9b5219056933a87ec45"
 },
 "nbformat": 3,
 "nbformat_minor": 0,
 "worksheets": [
  {
   "cells": [
    {
     "cell_type": "heading",
     "level": 4,
     "metadata": {},
     "source": [
      "Most relevant\n",
      "https://github.com/zueve/neurolab\n",
      "https://code.google.com/archive/p/neurolab/\n",
      "Also relevant\n",
      "https://pythonhosted.org/neurolab/lib.html#module-neurolab.train\n",
      "https://pythonhosted.org/neurolab/ex_newff.html"
     ]
    },
    {
     "cell_type": "code",
     "collapsed": false,
     "input": [
      "import numpy as np\n",
      "import neurolab as nl\n",
      "input = np.random.uniform(-0.5,0.5,(10,2))\n",
      "print (input)"
     ],
     "language": "python",
     "metadata": {},
     "outputs": [
      {
       "output_type": "stream",
       "stream": "stdout",
       "text": [
        "[[ 0.0488135   0.21518937]\n",
        " [ 0.10276338  0.04488318]\n",
        " [-0.0763452   0.14589411]\n",
        " [-0.06241279  0.391773  ]\n",
        " [ 0.46366276 -0.11655848]\n",
        " [ 0.29172504  0.02889492]\n",
        " [ 0.06804456  0.42559664]\n",
        " [-0.42896394 -0.4128707 ]\n",
        " [-0.4797816   0.33261985]\n",
        " [ 0.27815675  0.37001215]]\n"
       ]
      }
     ],
     "prompt_number": 17
    },
    {
     "cell_type": "code",
     "collapsed": false,
     "input": [
      "target = (input[:,0] + input[:,1]).reshape(10,1)\n",
      "print (target)"
     ],
     "language": "python",
     "metadata": {},
     "outputs": [
      {
       "output_type": "stream",
       "stream": "stdout",
       "text": [
        "[[ 0.26400287]\n",
        " [ 0.14764656]\n",
        " [ 0.06954891]\n",
        " [ 0.32936021]\n",
        " [ 0.34710428]\n",
        " [ 0.32061996]\n",
        " [ 0.4936412 ]\n",
        " [-0.84183464]\n",
        " [-0.14716176]\n",
        " [ 0.6481689 ]]\n"
       ]
      }
     ],
     "prompt_number": 18
    },
    {
     "cell_type": "code",
     "collapsed": false,
     "input": [
      "net = nl.net.newff([[-0.5,0.5],[-0.5,0.5]], [5,1])\n",
      "print (net)"
     ],
     "language": "python",
     "metadata": {},
     "outputs": [
      {
       "output_type": "stream",
       "stream": "stdout",
       "text": [
        "<neurolab.core.Net object at 0x080F1FB0>\n"
       ]
      }
     ],
     "prompt_number": 19
    },
    {
     "cell_type": "code",
     "collapsed": false,
     "input": [
      "err = net.train(input, target, show = 15)"
     ],
     "language": "python",
     "metadata": {},
     "outputs": [
      {
       "output_type": "stream",
       "stream": "stdout",
       "text": [
        "The goal of learning is reached\n"
       ]
      }
     ],
     "prompt_number": 20
    },
    {
     "cell_type": "code",
     "collapsed": false,
     "input": [
      "print (err)"
     ],
     "language": "python",
     "metadata": {},
     "outputs": [
      {
       "output_type": "stream",
       "stream": "stdout",
       "text": [
        "[0.63868880773080039, 0.2820654169525762, 0.20688260324498786, 0.14402761412159917, 0.096768932992094686, 0.046420454619177418, 0.034462654244140987, 0.029829785200861367, 0.025501509393614459, 0.020897785856595762, 0.015843514929544535, 0.010690453668306307, 0.0073685156918519255]\n"
       ]
      }
     ],
     "prompt_number": 21
    },
    {
     "cell_type": "code",
     "collapsed": false,
     "input": [
      "net.sim([[0.2,0.1]])"
     ],
     "language": "python",
     "metadata": {},
     "outputs": [
      {
       "metadata": {},
       "output_type": "pyout",
       "prompt_number": 22,
       "text": [
        "array([[ 0.28535462]])"
       ]
      }
     ],
     "prompt_number": 22
    },
    {
     "cell_type": "code",
     "collapsed": false,
     "input": [],
     "language": "python",
     "metadata": {},
     "outputs": [],
     "prompt_number": 22
    }
   ],
   "metadata": {}
  }
 ]
}