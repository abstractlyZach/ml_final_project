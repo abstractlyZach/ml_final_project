{
 "cells": [
  {
   "cell_type": "code",
   "execution_count": 6,
   "metadata": {
    "collapsed": false
   },
   "outputs": [],
   "source": [
    "import numpy as np\n",
    "np.random.seed(0)\n",
    "import mltools as ml\n",
    "import matplotlib.pyplot as plt   # use matplotlib for plotting with inline plots\n",
    "%matplotlib inline\n",
    "\n",
    "import mltools.dtree as dt    # import decision tree code"
   ]
  },
  {
   "cell_type": "code",
   "execution_count": 7,
   "metadata": {
    "collapsed": false
   },
   "outputs": [
    {
     "name": "stdout",
     "output_type": "stream",
     "text": [
      "[[ 0.0488135   0.21518937]\n",
      " [ 0.10276338  0.04488318]\n",
      " [-0.0763452   0.14589411]\n",
      " [-0.06241279  0.391773  ]\n",
      " [ 0.46366276 -0.11655848]\n",
      " [ 0.29172504  0.02889492]\n",
      " [ 0.06804456  0.42559664]\n",
      " [-0.42896394 -0.4128707 ]\n",
      " [-0.4797816   0.33261985]\n",
      " [ 0.27815675  0.37001215]]\n"
     ]
    }
   ],
   "source": [
    "import numpy as np\n",
    "import neurolab as nl\n",
    "input = np.random.uniform(-0.5,0.5,(10,2))\n",
    "print(input)"
   ]
  },
  {
   "cell_type": "code",
   "execution_count": 8,
   "metadata": {
    "collapsed": false
   },
   "outputs": [
    {
     "name": "stdout",
     "output_type": "stream",
     "text": [
      "[[ 0.26400287]\n",
      " [ 0.14764656]\n",
      " [ 0.06954891]\n",
      " [ 0.32936021]\n",
      " [ 0.34710428]\n",
      " [ 0.32061996]\n",
      " [ 0.4936412 ]\n",
      " [-0.84183464]\n",
      " [-0.14716176]\n",
      " [ 0.6481689 ]]\n"
     ]
    }
   ],
   "source": [
    "target = (input[:,0] + input[:,1]).reshape(10,1)\n",
    "print(target)"
   ]
  },
  {
   "cell_type": "code",
   "execution_count": 9,
   "metadata": {
    "collapsed": false
   },
   "outputs": [
    {
     "name": "stdout",
     "output_type": "stream",
     "text": [
      "<neurolab.core.Net object at 0x10cd0b208>\n"
     ]
    }
   ],
   "source": [
    "net = nl.net.newff([[-0.5,0.5],[-0.5,0.5]], [5,1])\n",
    "print(net)"
   ]
  },
  {
   "cell_type": "code",
   "execution_count": 10,
   "metadata": {
    "collapsed": false
   },
   "outputs": [
    {
     "name": "stdout",
     "output_type": "stream",
     "text": [
      "The goal of learning is reached\n"
     ]
    }
   ],
   "source": [
    "err = net.train(input, target, show = 15)"
   ]
  },
  {
   "cell_type": "code",
   "execution_count": 11,
   "metadata": {
    "collapsed": false
   },
   "outputs": [
    {
     "name": "stdout",
     "output_type": "stream",
     "text": [
      "[0.63868880773080072, 0.28206541695257631, 0.20688260324498803, 0.14402761412159909, 0.096768932992094908, 0.046420454619177438, 0.034462654244141001, 0.029829785200861412, 0.025501509393614476, 0.020897785856595824, 0.015843514929544479, 0.0106904536683063, 0.0073685156918519039]\n"
     ]
    }
   ],
   "source": [
    "print(err)"
   ]
  },
  {
   "cell_type": "code",
   "execution_count": 12,
   "metadata": {
    "collapsed": false
   },
   "outputs": [
    {
     "data": {
      "text/plain": [
       "array([[ 0.28535462]])"
      ]
     },
     "execution_count": 12,
     "metadata": {},
     "output_type": "execute_result"
    }
   ],
   "source": [
    "net.sim([[0.2,0.1]])"
   ]
  },
  {
   "cell_type": "code",
   "execution_count": null,
   "metadata": {
    "collapsed": false
   },
   "outputs": [],
   "source": []
  }
 ],
 "metadata": {
  "kernelspec": {
   "display_name": "Python 3",
   "language": "python",
   "name": "python3"
  },
  "language_info": {
   "codemirror_mode": {
    "name": "ipython",
    "version": 3
   },
   "file_extension": ".py",
   "mimetype": "text/x-python",
   "name": "python",
   "nbconvert_exporter": "python",
   "pygments_lexer": "ipython3",
   "version": "3.5.1"
  }
 },
 "nbformat": 4,
 "nbformat_minor": 0
}
