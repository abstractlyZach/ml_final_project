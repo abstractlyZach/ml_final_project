{
 "metadata": {
  "name": "",
  "signature": "sha256:465bcfa4f02083db23234d1fa52f28a0462165ee3fafbb2d97510b7710b48209"
 },
 "nbformat": 3,
 "nbformat_minor": 0,
 "worksheets": [
  {
   "cells": [
    {
     "cell_type": "code",
     "collapsed": false,
     "input": [
      "\n",
      "import numpy as np\n",
      "np.random.seed(0)\n",
      "import mltools as ml\n",
      "import matplotlib.pyplot as plt   # use matplotlib for plotting with inline plots\n",
      "%matplotlib inline\n",
      "\n",
      "import mltools.dtree as dt    # import decision tree code"
     ],
     "language": "python",
     "metadata": {},
     "outputs": [],
     "prompt_number": 1
    },
    {
     "cell_type": "code",
     "collapsed": false,
     "input": [
      "import numpy as np\n",
      "import neurolab as nl\n",
      "input = np.random.uniform(-0.5,0.5,(10,2))\n",
      "print (input)"
     ],
     "language": "python",
     "metadata": {},
     "outputs": [
      {
       "output_type": "stream",
       "stream": "stdout",
       "text": [
        "[[-0.33869048  0.15310833]\n",
        " [-0.2467084  -0.03368923]\n",
        " [-0.25557441 -0.34103042]\n",
        " [-0.38962486  0.15632959]\n",
        " [-0.36181705 -0.30341764]\n",
        " [-0.13127483  0.32099323]\n",
        " [-0.40289872  0.33794491]\n",
        " [-0.40390159  0.47645947]\n",
        " [-0.0313488   0.47676109]\n",
        " [ 0.10484552  0.23926358]]\n"
       ]
      }
     ],
     "prompt_number": 10
    },
    {
     "cell_type": "code",
     "collapsed": false,
     "input": [
      "target = (input[:,0] + input[:,1]).reshape(10,1)\n",
      "print (target)"
     ],
     "language": "python",
     "metadata": {},
     "outputs": [
      {
       "output_type": "stream",
       "stream": "stdout",
       "text": [
        "[[-0.18558216]\n",
        " [-0.28039762]\n",
        " [-0.59660482]\n",
        " [-0.23329527]\n",
        " [-0.66523469]\n",
        " [ 0.1897184 ]\n",
        " [-0.06495382]\n",
        " [ 0.07255787]\n",
        " [ 0.44541229]\n",
        " [ 0.3441091 ]]\n"
       ]
      }
     ],
     "prompt_number": 11
    },
    {
     "cell_type": "code",
     "collapsed": false,
     "input": [
      "net = nl.net.newff([[-0.5,0.5],[-0.5,0.5]], [5,1])\n",
      "print (net)"
     ],
     "language": "python",
     "metadata": {},
     "outputs": [
      {
       "output_type": "stream",
       "stream": "stdout",
       "text": [
        "<neurolab.core.Net object at 0x080F19F0>\n"
       ]
      }
     ],
     "prompt_number": 12
    },
    {
     "cell_type": "code",
     "collapsed": false,
     "input": [
      "err = net.train(input, target, show = 15)"
     ],
     "language": "python",
     "metadata": {},
     "outputs": [
      {
       "output_type": "stream",
       "stream": "stdout",
       "text": [
        "The goal of learning is reached\n"
       ]
      }
     ],
     "prompt_number": 6
    },
    {
     "cell_type": "code",
     "collapsed": false,
     "input": [
      "print (err)"
     ],
     "language": "python",
     "metadata": {},
     "outputs": [
      {
       "output_type": "stream",
       "stream": "stdout",
       "text": [
        "[0.63868880773080039, 0.2820654169525762, 0.20688260324498786, 0.14402761412159917, 0.096768932992094686, 0.046420454619177418, 0.034462654244140987, 0.029829785200861367, 0.025501509393614459, 0.020897785856595762, 0.015843514929544535, 0.010690453668306307, 0.0073685156918519255]\n"
       ]
      }
     ],
     "prompt_number": 13
    },
    {
     "cell_type": "code",
     "collapsed": false,
     "input": [
      "net.sim([[0.2,0.1]])"
     ],
     "language": "python",
     "metadata": {},
     "outputs": [
      {
       "metadata": {},
       "output_type": "pyout",
       "prompt_number": 8,
       "text": [
        "array([[ 0.28535462]])"
       ]
      }
     ],
     "prompt_number": 8
    },
    {
     "cell_type": "code",
     "collapsed": false,
     "input": [],
     "language": "python",
     "metadata": {},
     "outputs": [],
     "prompt_number": 18
    }
   ],
   "metadata": {}
  }
 ]
}