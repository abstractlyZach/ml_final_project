{
 "metadata": {
  "name": "",
  "signature": "sha256:18e0b84d6d5c76a150fc1a5179d5491cd893e023e677eb28f141a7be801c81df"
 },
 "nbformat": 3,
 "nbformat_minor": 0,
 "worksheets": [
  {
   "cells": [
    {
     "cell_type": "code",
     "collapsed": false,
     "input": [
      "import numpy as np\n",
      "np.random.seed(0)\n",
      "import mltools as ml\n",
      "import matplotlib.pyplot as plt   # use matplotlib for plotting with inline plots\n",
      "%matplotlib inline\n",
      "\n",
      "import mltools.dtree as dt    # import decision tree code"
     ],
     "language": "python",
     "metadata": {},
     "outputs": [],
     "prompt_number": 12
    },
    {
     "cell_type": "code",
     "collapsed": false,
     "input": [
      "import numpy as np\n",
      "import neurolab as nl\n",
      "input = np.random.uniform(-0.5,0.5,(10,2))\n",
      "print input"
     ],
     "language": "python",
     "metadata": {},
     "outputs": [
      {
       "output_type": "stream",
       "stream": "stdout",
       "text": [
        "[[ 0.0488135   0.21518937]\n",
        " [ 0.10276338  0.04488318]\n",
        " [-0.0763452   0.14589411]\n",
        " [-0.06241279  0.391773  ]\n",
        " [ 0.46366276 -0.11655848]\n",
        " [ 0.29172504  0.02889492]\n",
        " [ 0.06804456  0.42559664]\n",
        " [-0.42896394 -0.4128707 ]\n",
        " [-0.4797816   0.33261985]\n",
        " [ 0.27815675  0.37001215]]\n"
       ]
      }
     ],
     "prompt_number": 13
    },
    {
     "cell_type": "code",
     "collapsed": false,
     "input": [
      "target = (input[:,0] + input[:,1]).reshape(10,1)\n",
      "print target"
     ],
     "language": "python",
     "metadata": {},
     "outputs": [
      {
       "output_type": "stream",
       "stream": "stdout",
       "text": [
        "[[ 0.26400287]\n",
        " [ 0.14764656]\n",
        " [ 0.06954891]\n",
        " [ 0.32936021]\n",
        " [ 0.34710428]\n",
        " [ 0.32061996]\n",
        " [ 0.4936412 ]\n",
        " [-0.84183464]\n",
        " [-0.14716176]\n",
        " [ 0.6481689 ]]\n"
       ]
      }
     ],
     "prompt_number": 14
    },
    {
     "cell_type": "code",
     "collapsed": false,
     "input": [
      "net = nl.net.newff([[-0.5,0.5],[-0.5,0.5]], [5,1])\n",
      "print net"
     ],
     "language": "python",
     "metadata": {},
     "outputs": [
      {
       "output_type": "stream",
       "stream": "stdout",
       "text": [
        "<neurolab.core.Net object at 0x07CD0950>\n"
       ]
      }
     ],
     "prompt_number": 15
    },
    {
     "cell_type": "code",
     "collapsed": false,
     "input": [
      "err = net.train(input, target, show = 15)"
     ],
     "language": "python",
     "metadata": {},
     "outputs": [
      {
       "output_type": "stream",
       "stream": "stdout",
       "text": [
        "The goal of learning is reached\n"
       ]
      }
     ],
     "prompt_number": 16
    },
    {
     "cell_type": "code",
     "collapsed": false,
     "input": [
      "print err"
     ],
     "language": "python",
     "metadata": {},
     "outputs": [
      {
       "output_type": "stream",
       "stream": "stdout",
       "text": [
        "[0.63868880773080039, 0.2820654169525762, 0.20688260324498786, 0.14402761412159917, 0.096768932992094686, 0.046420454619177418, 0.034462654244140987, 0.029829785200861367, 0.025501509393614459, 0.020897785856595762, 0.015843514929544535, 0.010690453668306307, 0.0073685156918519255]\n"
       ]
      }
     ],
     "prompt_number": 17
    },
    {
     "cell_type": "code",
     "collapsed": false,
     "input": [
      "net.sim([[0.2,0.1]])"
     ],
     "language": "python",
     "metadata": {},
     "outputs": [
      {
       "metadata": {},
       "output_type": "pyout",
       "prompt_number": 18,
       "text": [
        "array([[ 0.28535462]])"
       ]
      }
     ],
     "prompt_number": 18
    },
    {
     "cell_type": "code",
     "collapsed": false,
     "input": [],
     "language": "python",
     "metadata": {},
     "outputs": [],
     "prompt_number": 18
    }
   ],
   "metadata": {}
  }
 ]
}