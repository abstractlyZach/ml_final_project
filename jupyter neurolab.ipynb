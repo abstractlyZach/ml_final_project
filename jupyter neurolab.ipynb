{
 "metadata": {
  "name": "",
  "signature": "sha256:bd1d5f06a4555558991b8f2e1e1483f6e35aee9cb0bf142b0b38f0e85acabb5f"
 },
 "nbformat": 3,
 "nbformat_minor": 0,
 "worksheets": [
  {
   "cells": [
    {
     "cell_type": "heading",
     "level": 4,
     "metadata": {},
     "source": [
      "http://nbviewer.jupyter.org/urls/neurolab.googlecode.com/svn/trunk/example/Neurolab%20-%20Regularization.ipynb"
     ]
    },
    {
     "cell_type": "code",
     "collapsed": false,
     "input": [
      "import neurolab as nl\n",
      "import numpy as np\n",
      "\n",
      "# Create train samples\n",
      "x = np.linspace(-7, 7, 20)\n",
      "y = np.sin(x) * 0.5\n",
      "\n",
      "size = len(x)\n",
      "print size\n",
      "print x.shape\n",
      "inp = x.reshape(size,1)\n",
      "tar = y.reshape(size,1)\n",
      "print 3\n",
      "help(x.reshape)\n",
      "\n",
      "# Create network with 2 layers and random initialized\n",
      "net = nl.net.newff([[-7, 7]],[5, 1])"
     ],
     "language": "python",
     "metadata": {},
     "outputs": [
      {
       "output_type": "stream",
       "stream": "stdout",
       "text": [
        "20\n",
        "(20,)\n",
        "(20,)\n",
        "Help on built-in function reshape:\n",
        "\n",
        "reshape(...)\n",
        "    a.reshape(shape, order='C')\n",
        "    \n",
        "    Returns an array containing the same data with a new shape.\n",
        "    \n",
        "    Refer to `numpy.reshape` for full documentation.\n",
        "    \n",
        "    See Also\n",
        "    --------\n",
        "    numpy.reshape : equivalent function\n",
        "\n"
       ]
      }
     ],
     "prompt_number": 4
    },
    {
     "cell_type": "code",
     "collapsed": false,
     "input": [
      "error = net.train(inp, tar, epochs=500, show=100, goal=0.02, rr=0.5)\n",
      "# Simulate network\n",
      "out = net.sim(inp)\n",
      "\n",
      "# Plot result\n",
      "import pylab as pl\n",
      "pl.subplot(211)\n",
      "pl.plot(error)\n",
      "pl.xlabel('Epoch number')\n",
      "pl.ylabel('error (default SSE)')\n",
      "\n",
      "x2 = np.linspace(-6.0,6.0,150)\n",
      "y2 = net.sim(x2.reshape(x2.size,1)).reshape(x2.size)\n",
      "\n",
      "y3 = out.reshape(size)\n",
      "\n",
      "pl.subplot(212)\n",
      "pl.plot(x2, y2, '-',x , y, '.', x, y3, 'p')\n",
      "pl.legend(['train target', 'net output'])\n",
      "pl.show()"
     ],
     "language": "python",
     "metadata": {},
     "outputs": [],
     "prompt_number": 5
    },
    {
     "cell_type": "code",
     "collapsed": false,
     "input": [],
     "language": "python",
     "metadata": {},
     "outputs": []
    }
   ],
   "metadata": {}
  }
 ]
}