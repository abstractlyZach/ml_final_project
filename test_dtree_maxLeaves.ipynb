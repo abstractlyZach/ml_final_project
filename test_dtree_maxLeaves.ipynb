{
 "metadata": {
  "name": "",
  "signature": "sha256:fc358bbaf7ce1f9c5e9ce568f5b204a5fe4a6a9647c5ae60e6b3e2a49f3bab4f"
 },
 "nbformat": 3,
 "nbformat_minor": 0,
 "worksheets": [
  {
   "cells": [
    {
     "cell_type": "code",
     "collapsed": false,
     "input": [
      "import numpy as np\n",
      "np.random.seed(0)\n",
      "import mltools as ml\n",
      "import matplotlib.pyplot as plt   # use matplotlib for plotting with inline plots\n",
      "%matplotlib inline"
     ],
     "language": "python",
     "metadata": {},
     "outputs": [],
     "prompt_number": 6
    },
    {
     "cell_type": "code",
     "collapsed": false,
     "input": [
      "X = np.genfromtxt(\"data/kaggle.X1.train.txt\",delimiter=',') #X1 train\n",
      "Y = np.genfromtxt(\"data/kaggle.Y.train.txt\", delimiter=',') #Y train\n",
      "print Xt.shape, Yt.shape\n",
      "X = X[0:24000]\n",
      "Y = Y[0:24000]"
     ],
     "language": "python",
     "metadata": {},
     "outputs": [
      {
       "output_type": "stream",
       "stream": "stdout",
       "text": [
        "(60000, 91) (60000,)\n"
       ]
      }
     ],
     "prompt_number": 4
    },
    {
     "cell_type": "code",
     "collapsed": false,
     "input": [
      "[Xt,Xv,Yt,Yv] = ml.splitData(X,Y,0.80)\n",
      "# Xtr = Xt[0:24000]\n",
      "# Xte = Xt[54000:]\n",
      "# Ytr = Yt[0:24000]\n",
      "# Yte = Yt[54000:]\n",
      "# print Xtr.shape, Xte.shape, Ytr.shape, Yte.shape"
     ],
     "language": "python",
     "metadata": {},
     "outputs": [],
     "prompt_number": 5
    },
    {
     "cell_type": "code",
     "collapsed": false,
     "input": [
      "import mltools.dtree_maxLeaves as dt    # import decision tree code"
     ],
     "language": "python",
     "metadata": {},
     "outputs": [],
     "prompt_number": 9
    },
    {
     "cell_type": "code",
     "collapsed": false,
     "input": [
      "learner = dt.treeRegrees()\n",
      "learner.train(Xt,Yt, maxLeaves)"
     ],
     "language": "python",
     "metadata": {},
     "outputs": []
    }
   ],
   "metadata": {}
  }
 ]
}