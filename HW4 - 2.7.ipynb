{
 "metadata": {
  "name": "",
  "signature": "sha256:f7a279062860e6d7a84ea5e9d1988eeb6cf7e37e79aa99ae0d13193510c7cf29"
 },
 "nbformat": 3,
 "nbformat_minor": 0,
 "worksheets": [
  {
   "cells": [
    {
     "cell_type": "code",
     "collapsed": false,
     "input": [
      "import numpy as np\n",
      "np.random.seed(0)\n",
      "import mltools as ml\n",
      "import matplotlib.pyplot as plt   # use matplotlib for plotting with inline plots\n",
      "%matplotlib inline\n",
      "\n",
      "import mltools.dtree as dt    # import decision tree code"
     ],
     "language": "python",
     "metadata": {},
     "outputs": [],
     "prompt_number": 1
    },
    {
     "cell_type": "code",
     "collapsed": false,
     "input": [
      "iris = np.genfromtxt(\"data/iris.txt\",delimiter=None)\n",
      "Y = iris[:,-1]\n",
      "X = iris[:,0:2]\n",
      "print Y.shape\n",
      "print X.shape\n",
      "print type(Y), type(X)"
     ],
     "language": "python",
     "metadata": {},
     "outputs": [
      {
       "output_type": "stream",
       "stream": "stdout",
       "text": [
        "(148,)\n",
        "(148, 2)\n",
        "<type 'numpy.ndarray'> <type 'numpy.ndarray'>\n"
       ]
      }
     ],
     "prompt_number": 2
    },
    {
     "cell_type": "code",
     "collapsed": false,
     "input": [
      "Xt = np.genfromtxt(\"data/kaggle.X1.train.txt\",delimiter=',') #X1 train\n",
      "Yt = np.genfromtxt(\"data/kaggle.Y.train.txt\", delimiter=',') #Y train\n",
      "print Xt.shape, Yt.shape"
     ],
     "language": "python",
     "metadata": {},
     "outputs": [
      {
       "output_type": "stream",
       "stream": "stdout",
       "text": [
        "(60000, 91) (60000,)\n"
       ]
      }
     ],
     "prompt_number": 4
    },
    {
     "cell_type": "code",
     "collapsed": false,
     "input": [
      "Xtr = Xt[0:48000]\n",
      "Xte = Xt[48000:]\n",
      "Ytr = Yt[0:48000]\n",
      "Yte = Yt[48000:]\n",
      "print Xtr.shape, Xte.shape, Ytr.shape, Yte.shape"
     ],
     "language": "python",
     "metadata": {},
     "outputs": [
      {
       "output_type": "stream",
       "stream": "stdout",
       "text": [
        "(48000, 91) (12000, 91) (48000,) (12000,)\n"
       ]
      }
     ],
     "prompt_number": 5
    },
    {
     "cell_type": "code",
     "collapsed": false,
     "input": [
      "learner = dt.treeRegress()\n",
      "# learner.train(Xte,Yte,maxDepth=20)\n",
      "# print \"Depth\", 20\n",
      "# print \"MSE training =\", learner.mse(Xtr,Ytr);\n",
      "# print \"MSE testing =\", learner.mse(Xte,Yte);\n",
      "\n",
      "for d in range(0,16,4):\n",
      "    learner.train(Xtr,Ytr,maxDepth=d)\n",
      "    print \"Depth\", d\n",
      "    print \"MSE training =\", learner.mse(Xtr,Ytr);\n",
      "    print \"MSE testing =\", learner.mse(Xte,Yte);"
     ],
     "language": "python",
     "metadata": {},
     "outputs": [
      {
       "output_type": "stream",
       "stream": "stdout",
       "text": [
        "Depth 0\n",
        "MSE training = 0.690830604333\n",
        "MSE testing = 0.718336698988\n",
        "Depth"
       ]
      },
      {
       "output_type": "stream",
       "stream": "stdout",
       "text": [
        " 4\n",
        "MSE training = "
       ]
      },
      {
       "output_type": "stream",
       "stream": "stdout",
       "text": [
        "0.451999080531\n",
        "MSE testing = 0.465591656337\n",
        "Depth"
       ]
      },
      {
       "output_type": "stream",
       "stream": "stdout",
       "text": [
        " 8\n",
        "MSE training = "
       ]
      },
      {
       "output_type": "stream",
       "stream": "stdout",
       "text": [
        "0.377605899244\n",
        "MSE testing = "
       ]
      },
      {
       "output_type": "stream",
       "stream": "stdout",
       "text": [
        "0.439260823754\n",
        "Depth"
       ]
      },
      {
       "output_type": "stream",
       "stream": "stdout",
       "text": [
        " 12\n",
        "MSE training = "
       ]
      },
      {
       "output_type": "stream",
       "stream": "stdout",
       "text": [
        "0.25577350274\n",
        "MSE testing = "
       ]
      },
      {
       "output_type": "stream",
       "stream": "stdout",
       "text": [
        "0.517762651891\n"
       ]
      }
     ],
     "prompt_number": 6
    },
    {
     "cell_type": "code",
     "collapsed": false,
     "input": [
      "minParents = []\n",
      "for i in range(3,13):\n",
      "    minParents.append(2**i)\n",
      "\n",
      "for minP in minParents[::4]:\n",
      "    learner.train(Xtr,Ytr,maxDepth=20, minParent=minP)\n",
      "    print \"MinParent\", minP\n",
      "    print \"MSE training = \", learner.mse(Xtr,Ytr);\n",
      "    print \"MSE testing =\", learner.mse(Xte,Yte);\n",
      "    \n"
     ],
     "language": "python",
     "metadata": {},
     "outputs": [
      {
       "output_type": "stream",
       "stream": "stdout",
       "text": [
        "MinParent 8\n",
        "MSE training =  "
       ]
      },
      {
       "output_type": "stream",
       "stream": "stdout",
       "text": [
        "0.0685182466104\n",
        "MSE testing = "
       ]
      },
      {
       "output_type": "stream",
       "stream": "stdout",
       "text": [
        "0.685189518288\n",
        "MinParent"
       ]
      },
      {
       "output_type": "stream",
       "stream": "stdout",
       "text": [
        " 128\n",
        "MSE training =  "
       ]
      },
      {
       "output_type": "stream",
       "stream": "stdout",
       "text": [
        "0.295915474952\n",
        "MSE testing = "
       ]
      },
      {
       "output_type": "stream",
       "stream": "stdout",
       "text": [
        "0.476582921924\n",
        "MinParent"
       ]
      },
      {
       "output_type": "stream",
       "stream": "stdout",
       "text": [
        " 2048\n",
        "MSE training =  "
       ]
      },
      {
       "output_type": "stream",
       "stream": "stdout",
       "text": [
        "0.422632798453\n",
        "MSE testing = 0.443799183182\n"
       ]
      }
     ],
     "prompt_number": 7
    },
    {
     "cell_type": "code",
     "collapsed": false,
     "input": [
      "#Kaggle Submission\n",
      "# Xt = np.genfromtxt(\"data/kaggle.X1.train.txt\",delimiter=',') #X1 train\n",
      "# Yt = np.genfromtxt(\"data/kaggle.Y.train.txt\", delimiter=',') #Y train\n",
      "Xn = np.genfromtxt(\"data/kaggle.X1.names.txt\",delimiter=',') #X1 names\n",
      "XKaggle = np.genfromtxt(\"data/kaggle.X1.test.txt\",delimiter=',') #X1 test"
     ],
     "language": "python",
     "metadata": {},
     "outputs": [],
     "prompt_number": 9
    },
    {
     "cell_type": "code",
     "collapsed": false,
     "input": [
      "import mltools.dtree27 as dt2    # import decision tree code"
     ],
     "language": "python",
     "metadata": {},
     "outputs": [],
     "prompt_number": 10
    },
    {
     "cell_type": "code",
     "collapsed": false,
     "input": [
      "learner = dt2.treeRegress()\n",
      "# learner.train(Xte,Yte,maxDepth=20)\n",
      "# print \"Depth\", 20\n",
      "# print \"MSE training =\", learner.mse(Xtr,Ytr);\n",
      "# print \"MSE testing =\", learner.mse(Xte,Yte);\n",
      "\n",
      "for d in range(0,16,4):\n",
      "    learner.train(Xtr,Ytr,maxDepth=d)\n",
      "    print \"Depth\", d\n",
      "    print \"MSE training =\", learner.mse(Xtr,Ytr);\n",
      "    print \"MSE testing =\", learner.mse(Xte,Yte);"
     ],
     "language": "python",
     "metadata": {},
     "outputs": [
      {
       "output_type": "stream",
       "stream": "stdout",
       "text": [
        "Depth 0\n",
        "MSE training = 0.690830604333\n",
        "MSE testing = 0.718336698988\n",
        "Depth"
       ]
      },
      {
       "output_type": "stream",
       "stream": "stdout",
       "text": [
        " 4\n",
        "MSE training = "
       ]
      },
      {
       "output_type": "stream",
       "stream": "stdout",
       "text": [
        "0.451999080531\n",
        "MSE testing = 0.465591656337\n",
        "Depth"
       ]
      },
      {
       "output_type": "stream",
       "stream": "stdout",
       "text": [
        " 8\n",
        "MSE training = "
       ]
      },
      {
       "output_type": "stream",
       "stream": "stdout",
       "text": [
        "0.377605899244\n",
        "MSE testing = "
       ]
      },
      {
       "output_type": "stream",
       "stream": "stdout",
       "text": [
        "0.439351661269\n",
        "Depth"
       ]
      },
      {
       "output_type": "stream",
       "stream": "stdout",
       "text": [
        " 12\n",
        "MSE training = "
       ]
      },
      {
       "output_type": "stream",
       "stream": "stdout",
       "text": [
        "0.25577350274\n",
        "MSE testing = "
       ]
      },
      {
       "output_type": "stream",
       "stream": "stdout",
       "text": [
        "0.509914824759\n"
       ]
      }
     ],
     "prompt_number": 11
    },
    {
     "cell_type": "code",
     "collapsed": false,
     "input": [],
     "language": "python",
     "metadata": {},
     "outputs": []
    }
   ],
   "metadata": {}
  }
 ]
}