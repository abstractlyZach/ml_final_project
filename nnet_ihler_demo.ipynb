{
 "metadata": {
  "name": "",
  "signature": "sha256:1a6ab88abfa491538132664aa3d41ebf0ca49234b18cfc3832953ba2c881210a"
 },
 "nbformat": 3,
 "nbformat_minor": 0,
 "worksheets": [
  {
   "cells": [
    {
     "cell_type": "heading",
     "level": 4,
     "metadata": {},
     "source": [
      "http://sli.ics.uci.edu/extras/cs178/NNet_Demo.html"
     ]
    },
    {
     "cell_type": "code",
     "collapsed": false,
     "input": [
      "import numpy as np\n",
      "np.random.seed(0)\n",
      "import mltools as ml\n",
      "import matplotlib.pyplot as plt   # use matplotlib for plotting with inline plots\n",
      "%matplotlib inline\n",
      "\n",
      "import mltools.nnet    # import neural network code"
     ],
     "language": "python",
     "metadata": {},
     "outputs": [],
     "prompt_number": 1
    },
    {
     "cell_type": "code",
     "collapsed": false,
     "input": [
      "iris = np.genfromtxt(\"data/iris.txt\", delimiter=None)\n",
      "X,Y = iris[:,0:2], iris[:,-1] #get first two features & target\n",
      "X,Y  = ml.shuffleData(X,Y)       # reorder randomly (important later)\n",
      "X,_  = ml.transforms.rescale(X)  # works much better on rescaled data\n",
      "\n",
      "XA, YA = X[Y<2,:], Y[Y<2]        # get class 0 vs 1\n",
      "XB, YB = X[Y>0,:], Y[Y>0]        # get class 1 vs 2"
     ],
     "language": "python",
     "metadata": {},
     "outputs": [],
     "prompt_number": 2
    },
    {
     "cell_type": "code",
     "collapsed": false,
     "input": [
      "nn = ml.nnet.nnetClassify()\n",
      "nn.init_weights( [2,2], 'random', XA,YA) \n",
      "#init_weights(self, sizes, init, X, Y):\n",
      "        \"\"\"\n",
      "        This method sets layer sizes and initializes the weights of the neural network\n",
      "          sizes = [Ninput, N1, N2, ... , Noutput], where Ninput = # of input features, and Nouput = # classes\n",
      "          init = {'zeros', 'random'} : initialize to all zeros or small random values (breaks symmetry)\n",
      "        \"\"\"\n",
      "\n",
      "nn.train(XA, YA, stopTol=1e-8, stepsize=.25, stopIter=300)\n",
      "        \"\"\"Train the neural network.\n",
      "    def train(self, X, Y, init='zeros', stepsize=.01, stopTol=1e-4, stopIter=5000):\n",
      "        Parameters\n",
      "        ----------\n",
      "        X : MxN numpy array containing M data points with N features each\n",
      "        Y : Mx1 numpy array of targets (class labels) for each data point in X\n",
      "        sizes : [Nin, Nh1, ... , Nout] \n",
      "            Nin is the number of features, Nout is the number of outputs, \n",
      "            which is the number of classes. Member weights are {W1, ... , WL-1},\n",
      "            where W1 is Nh1 x Nin, etc.\n",
      "        init : str \n",
      "            'none', 'zeros', or 'random'.  inits the neural net weights.\n",
      "        stepsize : scalar\n",
      "            The stepsize for gradient descent (decreases as 1 / iter).\n",
      "        stopTol : scalar \n",
      "            Tolerance for stopping criterion.\n",
      "        stopIter : int \n",
      "            The maximum number of steps before stopping. \n",
      "        activation : str \n",
      "            'logistic', 'htangent', or 'custom'. Sets the activation functions.\n",
      "        \n",
      "        \"\"\"\n",
      "ml.plotClassify2D(nn,XA,YA)\n",
      "print \"\\n\",nn.wts"
     ],
     "language": "python",
     "metadata": {},
     "outputs": [
      {
       "output_type": "stream",
       "stream": "stdout",
       "text": [
        "it 1 : Jsur = 0.134020984496, J01 = 0.030303030303\n",
        "it 2 : Jsur = 0.103017887476, J01 = 0.020202020202\n",
        "it 4 : Jsur = 0.0836453364899, J01 = 0.020202020202\n",
        "it 8 : Jsur = 0.0710722800531, J01 = 0.020202020202\n",
        "it 16 : Jsur = 0.0624120175902, J01 = 0.020202020202"
       ]
      },
      {
       "output_type": "stream",
       "stream": "stdout",
       "text": [
        "\n",
        "it 32 : Jsur = 0.0560897709833, J01 = 0.020202020202"
       ]
      },
      {
       "output_type": "stream",
       "stream": "stdout",
       "text": [
        "\n",
        "it 64 : Jsur = 0.0512429178492, J01 = 0.020202020202"
       ]
      },
      {
       "output_type": "stream",
       "stream": "stdout",
       "text": [
        "\n",
        "it 128 : Jsur = 0.0473790371087, J01 = 0.020202020202"
       ]
      },
      {
       "output_type": "stream",
       "stream": "stdout",
       "text": [
        "\n",
        "it 256 : Jsur = 0.0442024021084, J01 = 0.020202020202"
       ]
      },
      {
       "output_type": "stream",
       "stream": "stdout",
       "text": [
        "\n",
        "\n"
       ]
      },
      {
       "output_type": "stream",
       "stream": "stdout",
       "text": [
        "[array([[-1.23651771, -2.49257731,  2.14552143],\n",
        "       [ 1.08994782,  2.50465736, -2.16864069]])]\n"
       ]
      },
      {
       "metadata": {},
       "output_type": "display_data",
       "png": "[encoded data removed]",
       "text": [
        "<matplotlib.figure.Figure at 0x7e0dc70>"
       ]
      }
     ],
     "prompt_number": 3
    },
    {
     "cell_type": "code",
     "collapsed": false,
     "input": [
      "nn = ml.nnet.nnetClassify()\n",
      "nn.init_weights( [2,2], 'random', XA,YA)\n",
      "\n",
      "nn.train(XA, YA, stopTol=1e-8, stepsize=.25, stopIter=300)\n",
      "ml.plotClassify2D(nn,XA,YA)\n",
      "print \"\\n\",nn.wts\n"
     ],
     "language": "python",
     "metadata": {},
     "outputs": [
      {
       "output_type": "stream",
       "stream": "stdout",
       "text": [
        "it 1 : Jsur = 0.134190243637, J01 = 0.030303030303\n",
        "it 2 : Jsur = 0.103132011649, J01 = 0.020202020202\n",
        "it 4 : Jsur = 0.0837237021879, J01 = 0.020202020202\n",
        "it 8 : Jsur = 0.0711289021665, J01 = 0.020202020202\n",
        "it 16 : Jsur = 0.0624550080014, J01 = 0.020202020202"
       ]
      },
      {
       "output_type": "stream",
       "stream": "stdout",
       "text": [
        "\n",
        "it 32 : Jsur = 0.0561237320105, J01 = 0.020202020202"
       ]
      },
      {
       "output_type": "stream",
       "stream": "stdout",
       "text": [
        "\n",
        "it 64 : Jsur = 0.0512705706838, J01 = 0.020202020202"
       ]
      },
      {
       "output_type": "stream",
       "stream": "stdout",
       "text": [
        "\n",
        "it 128 : Jsur = 0.0474020807199, J01 = 0.020202020202"
       ]
      },
      {
       "output_type": "stream",
       "stream": "stdout",
       "text": [
        "\n",
        "it 256 : Jsur = 0.0442219535333, J01 = 0.020202020202"
       ]
      },
      {
       "output_type": "stream",
       "stream": "stdout",
       "text": [
        "\n",
        "\n"
       ]
      },
      {
       "output_type": "stream",
       "stream": "stdout",
       "text": [
        "[array([[-1.23574394, -2.49161792,  2.14567736],\n",
        "       [ 1.08963192,  2.50428312, -2.16880086]])]\n"
       ]
      },
      {
       "metadata": {},
       "output_type": "display_data",
       "png": "[encoded data removed]",
       "text": [
        "<matplotlib.figure.Figure at 0x7e0db50>"
       ]
      }
     ],
     "prompt_number": 4
    },
    {
     "cell_type": "code",
     "collapsed": false,
     "input": [],
     "language": "python",
     "metadata": {},
     "outputs": []
    }
   ],
   "metadata": {}
  }
 ]
}