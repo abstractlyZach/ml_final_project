{
 "metadata": {
  "kernelspec": {
   "display_name": "Python 3",
   "language": "python",
   "name": "python3"
  },
  "language_info": {
   "codemirror_mode": {
    "name": "ipython",
    "version": 3
   },
   "file_extension": ".py",
   "mimetype": "text/x-python",
   "name": "python",
   "nbconvert_exporter": "python",
   "pygments_lexer": "ipython3",
   "version": "3.5.1"
  },
  "name": "",
  "signature": "sha256:41085419cdfd1451516c1fa8e7fd3a42d7dbc0f8177970e4199d483e20727d48"
 },
 "nbformat": 3,
 "nbformat_minor": 0,
 "worksheets": [
  {
   "cells": [
    {
     "cell_type": "code",
     "collapsed": true,
     "input": [
      "import neurolab as nl\n",
      "import numpy as np"
     ],
     "language": "python",
     "metadata": {},
     "outputs": [],
     "prompt_number": 83
    },
    {
     "cell_type": "code",
     "collapsed": true,
     "input": [
      "X = np.genfromtxt(\"data/kaggle.X1.train.txt\",delimiter=',')\n",
      "Y = np.genfromtxt(\"data/kaggle.Y.train.txt\",delimiter=',')"
     ],
     "language": "python",
     "metadata": {},
     "outputs": [],
     "prompt_number": 84
    },
    {
     "cell_type": "code",
     "collapsed": true,
     "input": [
      "# Create network with 2 layers and random initialized\n",
      "net = nl.net.newff([[-7, 7]],[5, 1]) #newff --> multi-layer perceptron"
     ],
     "language": "python",
     "metadata": {},
     "outputs": [],
     "prompt_number": 85
    },
    {
     "cell_type": "code",
     "collapsed": false,
     "input": [
      "size = X.shape[0]\n",
      "\n",
      "Xnew =  X[:,0].reshape(size,1)\n",
      "inp = Xnew\n",
      "inp = inp[:1000]\n",
      "\n",
      "tar = Y.reshape(size,1)\n",
      "tar = tar[:1000]\n",
      "\n",
      "print (inp.shape)\n",
      "print (tar.shape)"
     ],
     "language": "python",
     "metadata": {},
     "outputs": [
      {
       "output_type": "stream",
       "stream": "stdout",
       "text": [
        "(1000, 1)\n",
        "(1000, 1)\n"
       ]
      }
     ],
     "prompt_number": 86
    },
    {
     "cell_type": "code",
     "collapsed": false,
     "input": [
      "import neurolab as nl\n",
      "reload(nl)\n",
      "# net = nl.net.newff([[-7, 7]],[5, 1]) #newff --> multi-layer perceptron\n",
      "#     def __init__(self, inp_minmax, co, layers, connect, trainf, errorf):\n",
      "#         self.inp_minmax = np.asfarray(inp_minmax)\n",
      "#         self.out_minmax = np.zeros([co, 2])\n",
      "#         self.ci = self.inp_minmax.shape[0]\n",
      "#         self.co = co\n",
      "\n",
      "# Simulate network\n",
      "# help(net.sim)\n",
      "# print(net.sim(X).ci)\n",
      "\n",
      "input =  np.asfarray(inp)         #input = np.asfarray(input)\n",
      "                #Return an array converted to a float type.\n",
      "inp_minmax = np.asfarray([[-7,7]])\n",
      "out_minmax = np.zeros([5,1])\n",
      "ci = inp_minmax.shape[0]\n",
      "print inp_minmax \n",
      "print\n",
      "print out_minmax\n",
      "print \n",
      "print ci\n",
      "\n",
      "print input.shape        #assert input.ndim == 2\n",
      "print input.ndim \n",
      "print input.shape[1] #        assert input.shape[1] == self.ci\n",
      "print ci\n",
      "print type(input.shape[1])\n",
      "print type(ci)\n",
      "assert ci == input.shape[1]\n",
      "print \"passed\"\n",
      "\n",
      "out = net.sim(X)\n",
      "\n",
      "\n",
      "\n",
      "\n",
      "# Plot result\n",
      "import pylab as pl\n",
      "pl.subplot(211)\n",
      "pl.plot(error)\n",
      "pl.xlabel('Epoch number')\n",
      "pl.ylabel('error (default SSE)')\n",
      "\n",
      "x2 = np.linspace(-6.0,6.0,150)\n",
      "y2 = net.sim(x2.reshape(x2.size,1)).reshape(x2.size)\n",
      "\n",
      "y3 = out.reshape(size)\n",
      "\n",
      "pl.subplot(212)\n",
      "pl.plot(x2, y2, '-',x , y, '.', x, y3, 'p')\n",
      "pl.legend(['train target', 'net output'])\n",
      "pl.show()"
     ],
     "language": "python",
     "metadata": {},
     "outputs": [
      {
       "output_type": "stream",
       "stream": "stdout",
       "text": [
        "[[-7.  7.]]\n",
        "\n",
        "[[ 0.]\n",
        " [ 0.]\n",
        " [ 0.]\n",
        " [ 0.]\n",
        " [ 0.]]\n",
        "\n",
        "1\n",
        "(1000, 1)\n",
        "2\n",
        "1\n",
        "1\n",
        "<type 'int'>\n",
        "<type 'int'>\n",
        "passed\n"
       ]
      },
      {
       "ename": "AssertionError",
       "evalue": "",
       "output_type": "pyerr",
       "traceback": [
        "\u001b[1;31m---------------------------------------------------------------------------\u001b[0m\n\u001b[1;31mAssertionError\u001b[0m                            Traceback (most recent call last)",
        "\u001b[1;32m<ipython-input-90-4b1d9b9c2481>\u001b[0m in \u001b[0;36m<module>\u001b[1;34m()\u001b[0m\n\u001b[0;32m     32\u001b[0m \u001b[1;32mprint\u001b[0m \u001b[1;34m\"passed\"\u001b[0m\u001b[1;33m\u001b[0m\u001b[0m\n\u001b[0;32m     33\u001b[0m \u001b[1;33m\u001b[0m\u001b[0m\n\u001b[1;32m---> 34\u001b[1;33m \u001b[0mout\u001b[0m \u001b[1;33m=\u001b[0m \u001b[0mnet\u001b[0m\u001b[1;33m.\u001b[0m\u001b[0msim\u001b[0m\u001b[1;33m(\u001b[0m\u001b[0mX\u001b[0m\u001b[1;33m)\u001b[0m\u001b[1;33m\u001b[0m\u001b[0m\n\u001b[0m\u001b[0;32m     35\u001b[0m \u001b[1;33m\u001b[0m\u001b[0m\n\u001b[0;32m     36\u001b[0m \u001b[1;33m\u001b[0m\u001b[0m\n",
        "\u001b[1;32mC:\\Python27\\lib\\site-packages\\neurolab\\core.pyc\u001b[0m in \u001b[0;36msim\u001b[1;34m(self, input)\u001b[0m\n\u001b[0;32m    140\u001b[0m         \u001b[1;32mprint\u001b[0m \u001b[1;33m(\u001b[0m\u001b[1;34m\"HI\"\u001b[0m\u001b[1;33m)\u001b[0m\u001b[1;33m\u001b[0m\u001b[0m\n\u001b[0;32m    141\u001b[0m         \u001b[0minput\u001b[0m \u001b[1;33m=\u001b[0m \u001b[0mnp\u001b[0m\u001b[1;33m.\u001b[0m\u001b[0masfarray\u001b[0m\u001b[1;33m(\u001b[0m\u001b[0minput\u001b[0m\u001b[1;33m)\u001b[0m\u001b[1;33m\u001b[0m\u001b[0m\n\u001b[1;32m--> 142\u001b[1;33m         \u001b[1;32massert\u001b[0m \u001b[0minput\u001b[0m\u001b[1;33m.\u001b[0m\u001b[0mndim\u001b[0m \u001b[1;33m==\u001b[0m \u001b[1;36m2\u001b[0m\u001b[1;33m\u001b[0m\u001b[0m\n\u001b[0m\u001b[0;32m    143\u001b[0m         \u001b[1;32massert\u001b[0m \u001b[0minput\u001b[0m\u001b[1;33m.\u001b[0m\u001b[0mshape\u001b[0m\u001b[1;33m[\u001b[0m\u001b[1;36m1\u001b[0m\u001b[1;33m]\u001b[0m \u001b[1;33m==\u001b[0m \u001b[0mself\u001b[0m\u001b[1;33m.\u001b[0m\u001b[0mci\u001b[0m\u001b[1;33m\u001b[0m\u001b[0m\n\u001b[0;32m    144\u001b[0m \u001b[1;33m\u001b[0m\u001b[0m\n",
        "\u001b[1;31mAssertionError\u001b[0m: "
       ]
      }
     ],
     "prompt_number": 90
    },
    {
     "cell_type": "code",
     "collapsed": false,
     "input": [],
     "language": "python",
     "metadata": {},
     "outputs": []
    }
   ],
   "metadata": {}
  }
 ]
}