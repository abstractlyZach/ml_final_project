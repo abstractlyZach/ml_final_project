{
 "metadata": {
  "name": "",
  "signature": "sha256:8ff1aa56efe0f253eb9bc31cc61a7e568b6b88836d010d622164097d5d2e8b3a"
 },
 "nbformat": 3,
 "nbformat_minor": 0,
 "worksheets": [
  {
   "cells": [
    {
     "cell_type": "code",
     "collapsed": false,
     "input": [
      "import numpy as np\n",
      "np.random.seed(0)\n",
      "import mltools as ml\n",
      "import matplotlib.pyplot as plt   # use matplotlib for plotting with inline plots\n",
      "%matplotlib inline\n",
      "\n",
      "import mltools.dtree as dt    # import decision tree code"
     ],
     "language": "python",
     "metadata": {},
     "outputs": [],
     "prompt_number": 3
    },
    {
     "cell_type": "code",
     "collapsed": false,
     "input": [
      "Xt = np.genfromtxt(\"data/kaggle.X1.train.txt\",delimiter=',') #X1 train\n",
      "Yt = np.genfromtxt(\"data/kaggle.Y.train.txt\", delimiter=',') #Y train\n",
      "print Xt.shape, Yt.shape"
     ],
     "language": "python",
     "metadata": {},
     "outputs": [
      {
       "output_type": "stream",
       "stream": "stdout",
       "text": [
        "(60000, 91) (60000,)\n"
       ]
      }
     ],
     "prompt_number": 6
    },
    {
     "cell_type": "code",
     "collapsed": false,
     "input": [
      "Xtr = Xt[0:24000]\n",
      "Xte = Xt[54000:]\n",
      "Ytr = Yt[0:24000]\n",
      "Yte = Yt[54000:]\n",
      "print Xtr.shape, Xte.shape, Ytr.shape, Yte.shape"
     ],
     "language": "python",
     "metadata": {},
     "outputs": [
      {
       "output_type": "stream",
       "stream": "stdout",
       "text": [
        "(24000, 91) (6000, 91) (24000,) (6000,)\n"
       ]
      }
     ],
     "prompt_number": 7
    },
    {
     "cell_type": "code",
     "collapsed": false,
     "input": [
      "learner = dt.treeRegress()\n",
      "for d in [2,4,6]:\n",
      "    learner.train(Xtr,Ytr,maxDepth=d)\n",
      "    print \"Depth\", d\n",
      "    print \"MSE training =\", learner.mse(Xtr,Ytr);\n",
      "    print \"MSE testing =\", learner.mse(Xte,Yte);"
     ],
     "language": "python",
     "metadata": {},
     "outputs": [
      {
       "output_type": "stream",
       "stream": "stdout",
       "text": [
        "Depth 2\n",
        "MSE training = 0.504944346826\n",
        "MSE testing = 0.524170207514\n",
        "Depth"
       ]
      },
      {
       "output_type": "stream",
       "stream": "stdout",
       "text": [
        " 4\n",
        "MSE training = "
       ]
      },
      {
       "output_type": "stream",
       "stream": "stdout",
       "text": [
        "0.44747939653\n",
        "MSE testing = 0.463759287051\n",
        "Depth"
       ]
      },
      {
       "output_type": "stream",
       "stream": "stdout",
       "text": [
        " 6\n",
        "MSE training = "
       ]
      },
      {
       "output_type": "stream",
       "stream": "stdout",
       "text": [
        "0.411017940249\n",
        "MSE testing = 0.446199044024\n"
       ]
      }
     ],
     "prompt_number": 16
    },
    {
     "cell_type": "code",
     "collapsed": false,
     "input": [
      "curve = np.genfromtxt(\"data/kaggle.X1.train.txt\",delimiter=',') #X1 train\n",
      "Yt = np.genfromtxt(\"data/kaggle.Y.train.txt\", delimiter=',') #Y train\n",
      "print Xt.shape, Yt.shape"
     ],
     "language": "python",
     "metadata": {},
     "outputs": [
      {
       "output_type": "stream",
       "stream": "stdout",
       "text": [
        "(60000, 91) (60000,)\n"
       ]
      }
     ],
     "prompt_number": 18
    },
    {
     "cell_type": "code",
     "collapsed": false,
     "input": [
      "Xtr = Xt[0:2000]\n",
      "Ytr = Yt[0:2000]\n",
      "learner = dt.treeRegress()\n",
      "learner.train(X,Y,maxDepth=5)\n"
     ],
     "language": "python",
     "metadata": {},
     "outputs": []
    },
    {
     "cell_type": "code",
     "collapsed": false,
     "input": [
      "curve = np.genfromtxt(\"data/curve80.txt\",delimiter=None)\n",
      "print curve.shape #(80, 2)\n",
      "X = curve[:,0]         # extract features\n",
      "print X.shape #(80,)\n",
      "X = X[:,np.newaxis]    # force X to be shape (M,1)     \n",
      "Y = curve[:,1]         # extract target values\n",
      "# create a grid for plotting the predictions\n",
      "xs = np.linspace(0,10,200)[:,np.newaxis]\n",
      "\n",
      "learner = dt.treeRegress()\n",
      "learner.train(X,Y,maxDepth=1)\n",
      "print learner\n",
      "\n",
      "ys = learner.predict(xs)\n",
      "lines = plt.plot(xs,ys,'k-',X,Y,'r.', linewidth=3,markersize=12)  \n",
      "print xs.shape"
     ],
     "language": "python",
     "metadata": {},
     "outputs": [
      {
       "output_type": "stream",
       "stream": "stdout",
       "text": [
        "(80, 2)\n",
        "(80,)\n",
        "  if x[0] < 5.149770:\n",
        "    Predict -0.394220850294\n",
        "  else:\n",
        "    Predict 3.59229595435\n",
        "\n",
        "(200, 1)"
       ]
      },
      {
       "output_type": "stream",
       "stream": "stdout",
       "text": [
        "\n"
       ]
      },
      {
       "metadata": {},
       "output_type": "display_data",
       "png": "[encoded data removed]",
       "text": [
        "<matplotlib.figure.Figure at 0x8144930>"
       ]
      }
     ],
     "prompt_number": 17
    },
    {
     "cell_type": "code",
     "collapsed": false,
     "input": [],
     "language": "python",
     "metadata": {},
     "outputs": []
    }
   ],
   "metadata": {}
  }
 ]
}