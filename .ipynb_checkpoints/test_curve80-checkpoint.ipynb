{
 "cells": [
  {
   "cell_type": "code",
   "execution_count": null,
   "metadata": {
    "collapsed": true
   },
   "outputs": [],
   "source": [
    "# import numpy as np\n",
    "# np.random.seed(0)\n",
    "# import mltools as ml\n",
    "# import matplotlib.pyplot as plt   # use matplotlib for plotting with inline plots\n",
    "# %matplotlib inline\n",
    "\n",
    "# import mltools.dtree_z as dt    # import decision tree code"
   ]
  },
  {
   "cell_type": "raw",
   "metadata": {},
   "source": [
    "print (\"HI\")"
   ]
  },
  {
   "cell_type": "code",
   "execution_count": null,
   "metadata": {
    "collapsed": true
   },
   "outputs": [],
   "source": []
  }
 ],
 "metadata": {
  "kernelspec": {
   "display_name": "Python 3",
   "language": "python",
   "name": "python3"
  }
 },
 "nbformat": 4,
 "nbformat_minor": 0
}
