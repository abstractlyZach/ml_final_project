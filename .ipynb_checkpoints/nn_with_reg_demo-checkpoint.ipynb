{
 "cells": [
  {
   "cell_type": "code",
   "execution_count": 16,
   "metadata": {
    "collapsed": true
   },
   "outputs": [],
   "source": [
    "# http://nbviewer.jupyter.org/urls/neurolab.googlecode.com/svn/trunk/example/Neurolab%20-%20Regularization.ipynb"
   ]
  },
  {
   "cell_type": "code",
   "execution_count": 17,
   "metadata": {
    "collapsed": true
   },
   "outputs": [],
   "source": [
    "import neurolab as nl\n",
    "import numpy as np\n",
    "\n",
    "# Create train samples\n",
    "x = np.linspace(-7, 7, 20)\n",
    "y = np.sin(x) * 0.5\n",
    "\n",
    "size = len(x)\n",
    "\n",
    "inp = x.reshape(size,1)\n",
    "tar = y.reshape(size,1)\n",
    "\n",
    "# Create network with 2 layers and random initialized\n",
    "net = nl.net.newff([[-7, 7]],[5, 1])"
   ]
  },
  {
   "cell_type": "code",
   "execution_count": 18,
   "metadata": {
    "collapsed": true
   },
   "outputs": [],
   "source": [
    "# Train network\n",
    "error = net.train(inp, tar, epochs=500, show=100, goal=0.02, rr=0.5)"
   ]
  },
  {
   "cell_type": "code",
   "execution_count": 19,
   "metadata": {
    "collapsed": true
   },
   "outputs": [],
   "source": [
    "# Simulate network\n",
    "out = net.sim(inp)\n",
    "\n",
    "# Plot result\n",
    "import pylab as pl\n",
    "pl.subplot(211)\n",
    "pl.plot(error)\n",
    "pl.xlabel('Epoch number')\n",
    "pl.ylabel('error (default SSE)')\n",
    "\n",
    "x2 = np.linspace(-6.0,6.0,150)\n",
    "y2 = net.sim(x2.reshape(x2.size,1)).reshape(x2.size)\n",
    "\n",
    "y3 = out.reshape(size)\n",
    "\n",
    "pl.subplot(212)\n",
    "pl.plot(x2, y2, '-',x , y, '.', x, y3, 'p')\n",
    "pl.legend(['train target', 'net output'])\n",
    "pl.show()\n"
   ]
  },
  {
   "cell_type": "code",
   "execution_count": 20,
   "metadata": {
    "collapsed": true
   },
   "outputs": [],
   "source": [
    "error = net.train(inp, tar, epochs=500, show=100, goal=0.02, rr=0.7)"
   ]
  },
  {
   "cell_type": "code",
   "execution_count": 23,
   "metadata": {
    "collapsed": true
   },
   "outputs": [],
   "source": [
    "# Simulate network\n",
    "out = net.sim(inp)\n",
    "\n",
    "# Plot result\n",
    "import pylab as pl\n",
    "pl.subplot(211)\n",
    "pl.plot(error)\n",
    "pl.xlabel('Epoch number')\n",
    "pl.ylabel('error (default SSE)')\n",
    "\n",
    "x2 = np.linspace(-6.0,6.0,150)\n",
    "y2 = net.sim(x2.reshape(x2.size,1)).reshape(x2.size)\n",
    "\n",
    "y3 = out.reshape(size)\n",
    "\n",
    "pl.subplot(212)\n",
    "pl.plot(x2, y2, '-',x , y, '.', x, y3, 'p')\n",
    "pl.legend(['train target', 'net output'])\n",
    "pl.show()"
   ]
  },
  {
   "cell_type": "code",
   "execution_count": 22,
   "metadata": {
    "collapsed": false
   },
   "outputs": [
    {
     "name": "stdout",
     "output_type": "stream",
     "text": [
      "[[-0.03936397]\n",
      " [ 0.09948198]\n",
      " [ 0.25720972]\n",
      " [ 0.32862356]\n",
      " [ 0.31195312]\n",
      " [ 0.17335952]\n",
      " [-0.09788585]\n",
      " [-0.27449997]\n",
      " [-0.27533531]\n",
      " [-0.12619267]\n",
      " [ 0.11260517]\n",
      " [ 0.26774829]\n",
      " [ 0.29286536]\n",
      " [ 0.1953007 ]\n",
      " [-0.06430609]\n",
      " [-0.38213387]\n",
      " [-0.5009047 ]\n",
      " [-0.30859719]\n",
      " [ 0.09603283]\n",
      " [ 0.31391425]]\n"
     ]
    }
   ],
   "source": [
    "print(out)"
   ]
  },
  {
   "cell_type": "code",
   "execution_count": null,
   "metadata": {
    "collapsed": true
   },
   "outputs": [],
   "source": []
  }
 ],
 "metadata": {
  "kernelspec": {
   "display_name": "Python 3",
   "language": "python",
   "name": "python3"
  },
  "language_info": {
   "codemirror_mode": {
    "name": "ipython",
    "version": 3
   },
   "file_extension": ".py",
   "mimetype": "text/x-python",
   "name": "python",
   "nbconvert_exporter": "python",
   "pygments_lexer": "ipython3",
   "version": "3.5.1"
  }
 },
 "nbformat": 4,
 "nbformat_minor": 0
}
