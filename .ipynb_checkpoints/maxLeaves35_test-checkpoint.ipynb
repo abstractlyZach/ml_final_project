{
 "cells": [
  {
   "cell_type": "code",
   "execution_count": 2,
   "metadata": {
    "collapsed": false
   },
   "outputs": [],
   "source": [
    "import numpy as np\n",
    "np.random.seed(0)\n",
    "import mltools as ml\n",
    "import matplotlib.pyplot as plt   # use matplotlib for plotting with inline plots\n",
    "%matplotlib inline\n",
    "\n",
    "import mltools.dtree_maxLeaves27 as dt    # import decision tree code"
   ]
  },
  {
   "cell_type": "code",
   "execution_count": 3,
   "metadata": {
    "collapsed": false
   },
   "outputs": [
    {
     "name": "stdout",
     "output_type": "stream",
     "text": [
      "(60000, 91) (60000,)\n"
     ]
    }
   ],
   "source": [
    "Xt = np.genfromtxt(\"data/kaggle.X1.train.txt\",delimiter=',') #X1 train\n",
    "Yt = np.genfromtxt(\"data/kaggle.Y.train.txt\", delimiter=',') #Y train\n",
    "print(Xt.shape, Yt.shape)"
   ]
  },
  {
   "cell_type": "code",
   "execution_count": 4,
   "metadata": {
    "collapsed": false
   },
   "outputs": [],
   "source": [
    "Xt = Xt[0:24000]\n",
    "Yt = Yt[0:24000]\n",
    "[Xt,Xv,Yt,Yv] = ml.splitData(Xt,Yt,0.80)"
   ]
  },
  {
   "cell_type": "code",
   "execution_count": 5,
   "metadata": {
    "collapsed": false
   },
   "outputs": [
    {
     "name": "stdout",
     "output_type": "stream",
     "text": [
      "out\n",
      "[  9.  55.  55.   9.  -1.  -1.  -1.  55.  55.  -1.  -1.  -1.  -1.  -1.  -1.\n",
      "  -1.   9.  -1.  -1.  -1.  -1.  -1.  -1.  -1.  -1.  -1.  -1.  -1.  -1.  -1.\n",
      "  -1.  -1.  -1.  55.  55.  -1.  -1.  -1.  -1.  -1.  -1.  -1.  -1.  -1.  -1.\n",
      "  -1.  -1.  -1.  -1.  -1.  -1.  -1.  -1.  -1.  -1.  -1.  -1.  -1.  -1.  -1.\n",
      "  -1.  -1.  -1.  -1.  -1.  -1.  -1.   9.]\n"
     ]
    }
   ],
   "source": [
    "%load_ext autoreload\n",
    "%autoreload 2\n",
    "import mltools.dtree_maxLeaves27 as dt    # import decision tree code\n",
    "\n",
    "learner = dt.treeRegress()\n",
    "learner.train(Xt,Yt, maxLeaves = 10)"
   ]
  },
  {
   "cell_type": "code",
   "execution_count": 6,
   "metadata": {
    "collapsed": false
   },
   "outputs": [
    {
     "name": "stdout",
     "output_type": "stream",
     "text": [
      "Decision Tree Regressor\n",
      "Thresholds: [24079.93, 22.90 ... 24079.93, 0.00]\n"
     ]
    }
   ],
   "source": [
    "print(learner)"
   ]
  },
  {
   "cell_type": "code",
   "execution_count": 24,
   "metadata": {
    "collapsed": false
   },
   "outputs": [
    {
     "name": "stdout",
     "output_type": "stream",
     "text": [
      "0\n",
      "1.0\n",
      "3.0\n",
      "7.0\n",
      "16.0\n",
      "33.0\n",
      "67.0\n",
      "34.0\n",
      "8.0\n",
      "2.0\n",
      "MSE training = 1.06818483345\n",
      "0\n",
      "1.0\n",
      "3.0\n",
      "7.0\n",
      "16.0\n",
      "33.0\n",
      "67.0\n",
      "34.0\n",
      "8.0\n",
      "2.0\n",
      "MSE testing = 1.06818483345\n"
     ]
    }
   ],
   "source": [
    "print(\"MSE training =\", learner.mse(Xt,Yt))\n",
    "print(\"MSE testing =\", learner.mse(Xv,Yv))"
   ]
  },
  {
   "cell_type": "code",
   "execution_count": null,
   "metadata": {
    "collapsed": false
   },
   "outputs": [],
   "source": []
  },
  {
   "cell_type": "code",
   "execution_count": null,
   "metadata": {
    "collapsed": true
   },
   "outputs": [],
   "source": []
  }
 ],
 "metadata": {
  "kernelspec": {
   "display_name": "Python 3",
   "language": "python",
   "name": "python3"
  },
  "language_info": {
   "codemirror_mode": {
    "name": "ipython",
    "version": 3
   },
   "file_extension": ".py",
   "mimetype": "text/x-python",
   "name": "python",
   "nbconvert_exporter": "python",
   "pygments_lexer": "ipython3",
   "version": "3.5.1"
  }
 },
 "nbformat": 4,
 "nbformat_minor": 0
}
