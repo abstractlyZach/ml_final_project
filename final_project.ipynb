{
 "cells": [
  {
   "cell_type": "code",
   "execution_count": 2,
   "metadata": {
    "collapsed": false
   },
   "outputs": [],
   "source": [
    "import numpy as np\n",
    "np.random.seed(0)\n",
    "import mltools as ml\n",
    "import matplotlib.pyplot as plt # use matplotlib for plotting with inline plots\n",
    "%matplotlib inline\n",
    "import mltools.dtree as dt;"
   ]
  },
  {
   "cell_type": "code",
   "execution_count": 4,
   "metadata": {
    "collapsed": false
   },
   "outputs": [],
   "source": [
    "X = np.genfromtxt(\"data/kaggle.X1.train.txt\",delimiter=',')\n",
    "Y = np.genfromtxt(\"data/kaggle.Y.train.txt\",delimiter=',')"
   ]
  },
  {
   "cell_type": "code",
   "execution_count": 6,
   "metadata": {
    "collapsed": true
   },
   "outputs": [],
   "source": [
    "[Xt,Xv,Yt,Yv] = ml.splitData(X,Y,0.20)"
   ]
  },
  {
   "cell_type": "code",
   "execution_count": 7,
   "metadata": {
    "collapsed": false
   },
   "outputs": [],
   "source": [
    "lr = dt.treeRegress(Xt,Yt, maxDepth=20)"
   ]
  },
  {
   "cell_type": "code",
   "execution_count": 9,
   "metadata": {
    "collapsed": false
   },
   "outputs": [
    {
     "name": "stdout",
     "output_type": "stream",
     "text": [
      "Train MSE:  0.0170504335486\n",
      "Valid MSE:  0.7979331304\n"
     ]
    }
   ],
   "source": [
    "print(\"Train MSE: \",lr.mse(Xt,Yt))\n",
    "print(\"Valid MSE: \",lr.mse(Xv,Yv))"
   ]
  },
  {
   "cell_type": "code",
   "execution_count": null,
   "metadata": {
    "collapsed": false
   },
   "outputs": [
    {
     "name": "stdout",
     "output_type": "stream",
     "text": [
      "Training 0\n",
      "Training 1\n",
      "Training 2\n",
      "Training 3\n",
      "Training 4\n",
      "Training 5\n",
      "Training 6\n",
      "Training 7\n",
      "Training 8\n",
      "Training 9"
     ]
    }
   ],
   "source": [
    "M = Xt.shape[0]\n",
    "Mv= Xv.shape[0]\n",
    "rforest = [None]*25\n",
    "YtHat = np.zeros((M,25))\n",
    "YvHat = np.zeros((Mv,25))\n",
    "for l in range(25):\n",
    "    print(\"Training {}\".format(l)) # uncomment if you want to monitor progress...\n",
    "    Xi,Yi = ml.bootstrapData(Xt,Yt, M) # draw this member’s random sample of data\n",
    "    rforest[l] = dt.treeRegress() # and train the model on that draw\n",
    "    rforest[l].train(Xi,Yi,maxDepth=15,nFeatures=60)\n",
    "    YtHat[:,l] = rforest[l].predict(Xt)[:,0] # predict on training data\n",
    "    YvHat[:,l] = rforest[l].predict(Xv)[:,0] # and validation data & save results\n",
    "print()\n",
    "for l in [1,5,10,15]:\n",
    "    # Make the prediction (mean of columns 0...l-1) and score the MSE:\n",
    "    mseT = ((Yt - YtHat[:,0:l].mean(axis=1))**2).mean()\n",
    "    mseV = ((Yv - YvHat[:,0:l].mean(axis=1))**2).mean()\n",
    "    print(\"{:02d} members: {} train, {} valid\".format(l,mseT,mseV))"
   ]
  },
  {
   "cell_type": "code",
   "execution_count": null,
   "metadata": {
    "collapsed": true
   },
   "outputs": [],
   "source": []
  }
 ],
 "metadata": {
  "kernelspec": {
   "display_name": "Python 3",
   "language": "python",
   "name": "python3"
  },
  "language_info": {
   "codemirror_mode": {
    "name": "ipython",
    "version": 3
   },
   "file_extension": ".py",
   "mimetype": "text/x-python",
   "name": "python",
   "nbconvert_exporter": "python",
   "pygments_lexer": "ipython3",
   "version": "3.5.1"
  }
 },
 "nbformat": 4,
 "nbformat_minor": 0
}
