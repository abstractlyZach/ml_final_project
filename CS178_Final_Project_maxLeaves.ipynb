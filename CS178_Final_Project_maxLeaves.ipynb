{
 "cells": [
  {
   "cell_type": "code",
   "execution_count": 34,
   "metadata": {
    "collapsed": false
   },
   "outputs": [
    {
     "name": "stdout",
     "output_type": "stream",
     "text": [
      "The autoreload extension is already loaded. To reload it, use:\n",
      "  %reload_ext autoreload\n"
     ]
    }
   ],
   "source": [
    "import numpy as np\n",
    "import mltools as ml\n",
    "import matplotlib.pyplot as plt \n",
    "import mltools.dtree_maxLeaves2 as dtml2\n",
    "import mltools.dtree as dt\n",
    "%matplotlib inline\n",
    "%load_ext autoreload\n",
    "%autoreload\n",
    "\n",
    "X1 = np.genfromtxt(\"data/kaggle.X1.train.txt\",delimiter=',')\n",
    "Y = np.genfromtxt(\"data/kaggle.Y.train.txt\",delimiter=',')\n",
    "\n",
    "Xtr,Xva,Ytr,Yva = ml.splitData(X1,Y) "
   ]
  },
  {
   "cell_type": "code",
   "execution_count": 35,
   "metadata": {
    "collapsed": false
   },
   "outputs": [
    {
     "name": "stdout",
     "output_type": "stream",
     "text": [
      "[0]\n",
      "[  1.   2.   3.   0.   0.   6.   0.   0.   9.  10.   0.   0.  13.   0.   0.]\n",
      "[  8.   5.   4.   0.   0.   7.   0.   0.  12.  11.   0.   0.  14.   0.   0.]\n",
      "[  9.  55.  83.  -1.  -1.  23.  -1.  -1.   6.  67.  -1.  -1.   6.  -1.  -1.]\n",
      "[  2.41221700e+04   2.10193800e+01  -4.27132900e-01   9.66420419e-01\n",
      "   4.33672270e-01   2.22895000e+04   1.61352556e+00   1.10308657e+00\n",
      "   1.99954100e+02   7.96890200e+01   4.83582296e-02   3.28163014e-01\n",
      "   9.50590150e+02   4.55836293e-01   8.66007309e-01]\n"
     ]
    }
   ],
   "source": [
    "learner = dt.treeRegress(Xtr,Ytr,maxDepth=3)\n",
    "# mlLearner = dtml2.treeRegress(Xtr,Ytr,maxLeaves=7)"
   ]
  },
  {
   "cell_type": "code",
   "execution_count": null,
   "metadata": {
    "collapsed": true
   },
   "outputs": [],
   "source": []
  }
 ],
 "metadata": {
  "kernelspec": {
   "display_name": "Python 3",
   "language": "python",
   "name": "python3"
  },
  "language_info": {
   "codemirror_mode": {
    "name": "ipython",
    "version": 3
   },
   "file_extension": ".py",
   "mimetype": "text/x-python",
   "name": "python",
   "nbconvert_exporter": "python",
   "pygments_lexer": "ipython3",
   "version": "3.5.1"
  }
 },
 "nbformat": 4,
 "nbformat_minor": 0
}
