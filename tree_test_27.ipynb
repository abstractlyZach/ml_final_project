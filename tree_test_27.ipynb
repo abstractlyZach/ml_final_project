{
 "cells": [
  {
   "cell_type": "code",
   "execution_count": 8,
   "metadata": {
    "collapsed": false
   },
   "outputs": [],
   "source": [
    "import numpy as np\n",
    "np.random.seed(0)\n",
    "import mltools as ml\n",
    "import matplotlib.pyplot as plt   # use matplotlib for plotting with inline plots\n",
    "%matplotlib inline\n",
    "\n",
    "import mltools.dtree_z2 as dt    # import decision tree code"
   ]
  },
  {
   "cell_type": "code",
   "execution_count": 89,
   "metadata": {
    "collapsed": false
   },
   "outputs": [
    {
     "name": "stdout",
     "output_type": "stream",
     "text": [
      "average 7.5\n",
      "split1_var 11.25\n",
      "len 4\n",
      "average 7.5\n",
      "split1_var 11.25\n",
      "len 4\n",
      "11.25\n"
     ]
    }
   ],
   "source": [
    "a = [1,2,3]\n",
    "b = [4,5,6]\n",
    "c = [7,8,9]\n",
    "d = [10,11,12]\n",
    "split1 = [a,b,c,d]\n",
    "#         for i,x,y in split1:\n",
    "#             total += (y - avg) ** 2\n",
    "\n",
    "\n",
    "\n",
    "total = 0\n",
    "for i,x,y in split1:\n",
    "    total += y\n",
    "avg = total / len(split1)\n",
    "print (\"average\", avg)\n",
    "total = 0\n",
    "for i,x,y in split1:\n",
    "    total += (y - avg) ** 2\n",
    "split1_var = total / len(split1)\n",
    "print (\"split1_var\", split1_var)\n",
    "print (\"len\", len(split1))\n",
    "\n",
    "arr1 = np.array(split1).T\n",
    "r,d = arr1.shape\n",
    "# total = np.sum(arr1[2])\n",
    "# avg = total / d\n",
    "avg = np.mean(arr1[2])\n",
    "print (\"average\", avg)\n",
    "total = np.sum((arr1[2]-avg)**2)\n",
    "split1_var = total / d\n",
    "print (\"split1_var\", split1_var)\n",
    "print (\"len\", d)\n",
    "\n",
    "var = np.var(arr1[2])\n",
    "print (var)\n",
    "# print (np.sum(n[2]))\n",
    "# print (n[2])\n",
    "# print (n.shape)\n",
    "# print (n)\n",
    "\n",
    "\n",
    "#         split2arr = np.array(split2).T\n",
    "#         # row 1 is i, 2 is x_values, 3 is y_values\n",
    "# #         for i,x,y in split1:\n",
    "# #             total += y\n",
    "#         total = np.sum(split1arr[2])\n",
    "#         avg = total / len(split1)\n",
    "#         total = 0\n",
    "#         for i,x,y in split1:\n",
    "#             total += (y - avg) ** 2\n"
   ]
  },
  {
   "cell_type": "code",
   "execution_count": 96,
   "metadata": {
    "collapsed": false
   },
   "outputs": [
    {
     "name": "stdout",
     "output_type": "stream",
     "text": [
      "(60000, 91) (60000,)\n"
     ]
    }
   ],
   "source": [
    "Xt = np.genfromtxt(\"data/kaggle.X1.train.txt\",delimiter=',') #X1 train\n",
    "Yt = np.genfromtxt(\"data/kaggle.Y.train.txt\", delimiter=',') #Y train\n",
    "print (Xt.shape, Yt.shape)"
   ]
  },
  {
   "cell_type": "code",
   "execution_count": 97,
   "metadata": {
    "collapsed": true
   },
   "outputs": [],
   "source": [
    "Xt = Xt[0:24000]\n",
    "Yt = Yt[0:24000]\n",
    "[Xt,Xv,Yt,Yv] = ml.splitData(Xt,Yt,0.80)\n"
   ]
  },
  {
   "cell_type": "code",
   "execution_count": 98,
   "metadata": {
    "collapsed": false
   },
   "outputs": [
    {
     "name": "stdout",
     "output_type": "stream",
     "text": [
      "(3840, 91) (3840,)\n"
     ]
    }
   ],
   "source": [
    "[X, Xv, Y, Yv] = ml.splitData(Xt, Yt, .2)\n",
    "print (X.shape, Y.shape)"
   ]
  },
  {
   "cell_type": "code",
   "execution_count": 99,
   "metadata": {
    "collapsed": true
   },
   "outputs": [],
   "source": [
    "learner = dt.treeRegress()\n"
   ]
  },
  {
   "cell_type": "code",
   "execution_count": null,
   "metadata": {
    "collapsed": true
   },
   "outputs": [],
   "source": [
    "learner.train(X,Y,2)"
   ]
  },
  {
   "cell_type": "code",
   "execution_count": 23,
   "metadata": {
    "collapsed": true
   },
   "outputs": [],
   "source": [
    "from numpy import asmatrix as mat"
   ]
  },
  {
   "cell_type": "code",
   "execution_count": 26,
   "metadata": {
    "collapsed": true
   },
   "outputs": [],
   "source": [
    "rows, num_features = mat(X).shape #3840, 91\n",
    "max_variance_reduction = -1*np.inf\n",
    "best_val = 0\n",
    "best_feature = 0\n",
    "best_thresh = 0"
   ]
  },
  {
   "cell_type": "code",
   "execution_count": 100,
   "metadata": {
    "collapsed": true
   },
   "outputs": [],
   "source": [
    "    def __variance_reduction(split1, split2, Y):\n",
    "        '''measures the weighted variance reduction'''\n",
    "        original_var = np.var(Y)\n",
    "        # calculate split1's variance\n",
    "        arr1 = np.array(split1).T \n",
    "        split1_var = np.var(arr1[2])\n",
    "        # calculate split1's variance\n",
    "        arr2 = np.array(split2).T \n",
    "        split2_var = np.var(arr2[2])\n",
    "        split1_weighted_variance = (len(split1) / len(Y)) * (original_var - split1_var)\n",
    "        split2_weighted_variance = (len(split2) / len(Y)) * (original_var - split2_var)\n",
    "        return ((len(split1) / len(Y)) * (original_var - split1_var)) + ((len(split2) / len(Y)) * (original_var - split2_var))"
   ]
  },
  {
   "cell_type": "code",
   "execution_count": 101,
   "metadata": {
    "collapsed": false
   },
   "outputs": [
    {
     "name": "stdout",
     "output_type": "stream",
     "text": [
      "(3840,)\n",
      "(3840, 91)\n"
     ]
    },
    {
     "ename": "KeyboardInterrupt",
     "evalue": "",
     "output_type": "error",
     "traceback": [
      "\u001b[1;31m---------------------------------------------------------------------------\u001b[0m",
      "\u001b[1;31mKeyboardInterrupt\u001b[0m                         Traceback (most recent call last)",
      "\u001b[1;32m<ipython-input-101-f898edb0622a>\u001b[0m in \u001b[0;36m<module>\u001b[1;34m()\u001b[0m\n\u001b[0;32m     16\u001b[0m             \u001b[1;32mcontinue\u001b[0m\u001b[1;33m\u001b[0m\u001b[0m\n\u001b[0;32m     17\u001b[0m \u001b[1;31m#         print (split1[0])\u001b[0m\u001b[1;33m\u001b[0m\u001b[1;33m\u001b[0m\u001b[0m\n\u001b[1;32m---> 18\u001b[1;33m         \u001b[0mvariance_reduction\u001b[0m \u001b[1;33m=\u001b[0m \u001b[0m__variance_reduction\u001b[0m\u001b[1;33m(\u001b[0m\u001b[0msplit1\u001b[0m\u001b[1;33m,\u001b[0m \u001b[0msplit2\u001b[0m\u001b[1;33m,\u001b[0m \u001b[0mY\u001b[0m\u001b[1;33m)\u001b[0m\u001b[1;33m\u001b[0m\u001b[0m\n\u001b[0m\u001b[0;32m     19\u001b[0m         \u001b[1;32mif\u001b[0m \u001b[0mvariance_reduction\u001b[0m \u001b[1;33m>\u001b[0m \u001b[0mmax_variance_reduction\u001b[0m\u001b[1;33m:\u001b[0m\u001b[1;33m\u001b[0m\u001b[0m\n\u001b[0;32m     20\u001b[0m             \u001b[1;31m# if the weighted variance is the least, save the weighted_variance, feature, and index to split on that feature\u001b[0m\u001b[1;33m\u001b[0m\u001b[1;33m\u001b[0m\u001b[0m\n",
      "\u001b[1;32m<ipython-input-100-4870f5b30588>\u001b[0m in \u001b[0;36m__variance_reduction\u001b[1;34m(split1, split2, Y)\u001b[0m\n\u001b[0;32m      7\u001b[0m     \u001b[1;31m# calculate split1's variance\u001b[0m\u001b[1;33m\u001b[0m\u001b[1;33m\u001b[0m\u001b[0m\n\u001b[0;32m      8\u001b[0m     \u001b[0marr2\u001b[0m \u001b[1;33m=\u001b[0m \u001b[0mnp\u001b[0m\u001b[1;33m.\u001b[0m\u001b[0marray\u001b[0m\u001b[1;33m(\u001b[0m\u001b[0msplit2\u001b[0m\u001b[1;33m)\u001b[0m\u001b[1;33m.\u001b[0m\u001b[0mT\u001b[0m\u001b[1;33m\u001b[0m\u001b[0m\n\u001b[1;32m----> 9\u001b[1;33m     \u001b[0msplit2_var\u001b[0m \u001b[1;33m=\u001b[0m \u001b[0mnp\u001b[0m\u001b[1;33m.\u001b[0m\u001b[0mvar\u001b[0m\u001b[1;33m(\u001b[0m\u001b[0marr2\u001b[0m\u001b[1;33m[\u001b[0m\u001b[1;36m2\u001b[0m\u001b[1;33m]\u001b[0m\u001b[1;33m)\u001b[0m\u001b[1;33m\u001b[0m\u001b[0m\n\u001b[0m\u001b[0;32m     10\u001b[0m     \u001b[0msplit1_weighted_variance\u001b[0m \u001b[1;33m=\u001b[0m \u001b[1;33m(\u001b[0m\u001b[0mlen\u001b[0m\u001b[1;33m(\u001b[0m\u001b[0msplit1\u001b[0m\u001b[1;33m)\u001b[0m \u001b[1;33m/\u001b[0m \u001b[0mlen\u001b[0m\u001b[1;33m(\u001b[0m\u001b[0mY\u001b[0m\u001b[1;33m)\u001b[0m\u001b[1;33m)\u001b[0m \u001b[1;33m*\u001b[0m \u001b[1;33m(\u001b[0m\u001b[0moriginal_var\u001b[0m \u001b[1;33m-\u001b[0m \u001b[0msplit1_var\u001b[0m\u001b[1;33m)\u001b[0m\u001b[1;33m\u001b[0m\u001b[0m\n\u001b[0;32m     11\u001b[0m     \u001b[0msplit2_weighted_variance\u001b[0m \u001b[1;33m=\u001b[0m \u001b[1;33m(\u001b[0m\u001b[0mlen\u001b[0m\u001b[1;33m(\u001b[0m\u001b[0msplit2\u001b[0m\u001b[1;33m)\u001b[0m \u001b[1;33m/\u001b[0m \u001b[0mlen\u001b[0m\u001b[1;33m(\u001b[0m\u001b[0mY\u001b[0m\u001b[1;33m)\u001b[0m\u001b[1;33m)\u001b[0m \u001b[1;33m*\u001b[0m \u001b[1;33m(\u001b[0m\u001b[0moriginal_var\u001b[0m \u001b[1;33m-\u001b[0m \u001b[0msplit2_var\u001b[0m\u001b[1;33m)\u001b[0m\u001b[1;33m\u001b[0m\u001b[0m\n",
      "\u001b[1;32mC:\\Anaconda3\\lib\\site-packages\\numpy\\core\\fromnumeric.py\u001b[0m in \u001b[0;36mvar\u001b[1;34m(a, axis, dtype, out, ddof, keepdims)\u001b[0m\n\u001b[0;32m   3091\u001b[0m \u001b[1;33m\u001b[0m\u001b[0m\n\u001b[0;32m   3092\u001b[0m     return _methods._var(a, axis=axis, dtype=dtype, out=out, ddof=ddof,\n\u001b[1;32m-> 3093\u001b[1;33m                          keepdims=keepdims)\n\u001b[0m",
      "\u001b[1;32mC:\\Anaconda3\\lib\\site-packages\\numpy\\core\\_methods.py\u001b[0m in \u001b[0;36m_var\u001b[1;34m(a, axis, dtype, out, ddof, keepdims)\u001b[0m\n\u001b[0;32m     89\u001b[0m     \u001b[1;31m# Note that if dtype is not of inexact type then arraymean will\u001b[0m\u001b[1;33m\u001b[0m\u001b[1;33m\u001b[0m\u001b[0m\n\u001b[0;32m     90\u001b[0m     \u001b[1;31m# not be either.\u001b[0m\u001b[1;33m\u001b[0m\u001b[1;33m\u001b[0m\u001b[0m\n\u001b[1;32m---> 91\u001b[1;33m     \u001b[0marrmean\u001b[0m \u001b[1;33m=\u001b[0m \u001b[0mumr_sum\u001b[0m\u001b[1;33m(\u001b[0m\u001b[0marr\u001b[0m\u001b[1;33m,\u001b[0m \u001b[0maxis\u001b[0m\u001b[1;33m,\u001b[0m \u001b[0mdtype\u001b[0m\u001b[1;33m,\u001b[0m \u001b[0mkeepdims\u001b[0m\u001b[1;33m=\u001b[0m\u001b[1;32mTrue\u001b[0m\u001b[1;33m)\u001b[0m\u001b[1;33m\u001b[0m\u001b[0m\n\u001b[0m\u001b[0;32m     92\u001b[0m     \u001b[1;32mif\u001b[0m \u001b[0misinstance\u001b[0m\u001b[1;33m(\u001b[0m\u001b[0marrmean\u001b[0m\u001b[1;33m,\u001b[0m \u001b[0mmu\u001b[0m\u001b[1;33m.\u001b[0m\u001b[0mndarray\u001b[0m\u001b[1;33m)\u001b[0m\u001b[1;33m:\u001b[0m\u001b[1;33m\u001b[0m\u001b[0m\n\u001b[0;32m     93\u001b[0m         arrmean = um.true_divide(\n",
      "\u001b[1;31mKeyboardInterrupt\u001b[0m: "
     ]
    }
   ],
   "source": [
    "sum = 0;\n",
    "print (Y.shape)\n",
    "print (X.shape)\n",
    "for feature in range(num_features): # examine each feature\n",
    "    feature_data = [None]*rows\n",
    "    for index, x_value in enumerate(X[:,feature]):\n",
    "        feature_data[index] = (index, x_value, Y[index])\n",
    "    feature_data.sort(key = lambda x:x[1])\n",
    "#     print(feature_data[:2])\n",
    "#     print (feature_data[2:])\n",
    "    for split_index in range(len(feature_data) - 1): # create splits between data\n",
    "        split1 = feature_data[:split_index + 1]\n",
    "        split2 = feature_data[split_index + 1:]\n",
    "        \n",
    "        if split1[-1][1] == split2[0][1]: # if the two values that are to be split are equal\n",
    "            continue\n",
    "#         print (split1[0])\n",
    "        variance_reduction = __variance_reduction(split1, split2, Y) \n",
    "        if variance_reduction > max_variance_reduction: \n",
    "            # if the weighted variance is the least, save the weighted_variance, feature, and index to split on that feature\n",
    "            max_variance_reduction = variance_reduction\n",
    "            best_val = variance_reduction\n",
    "            best_feature = feature\n",
    "            best_thresh = (feature_data[split_index][1] + feature_data[split_index + 1][1]) / 2\n",
    "        sum += 1\n",
    "        if (sum > 10):\n",
    "            break\n",
    "\n",
    "print ([best_val, best_feature, best_thresh])\n",
    "\n",
    "print (\"finished\")"
   ]
  },
  {
   "cell_type": "code",
   "execution_count": 44,
   "metadata": {
    "collapsed": true
   },
   "outputs": [],
   "source": [
    "x = [None]*rows"
   ]
  },
  {
   "cell_type": "code",
   "execution_count": 45,
   "metadata": {
    "collapsed": false
   },
   "outputs": [
    {
     "name": "stdout",
     "output_type": "stream",
     "text": [
      "3840\n"
     ]
    }
   ],
   "source": [
    "print (len(x))"
   ]
  },
  {
   "cell_type": "code",
   "execution_count": null,
   "metadata": {
    "collapsed": true
   },
   "outputs": [],
   "source": []
  }
 ],
 "metadata": {
  "kernelspec": {
   "display_name": "Python 3",
   "language": "python",
   "name": "python3"
  },
  "language_info": {
   "codemirror_mode": {
    "name": "ipython",
    "version": 3
   },
   "file_extension": ".py",
   "mimetype": "text/x-python",
   "name": "python",
   "nbconvert_exporter": "python",
   "pygments_lexer": "ipython3",
   "version": "3.5.1"
  }
 },
 "nbformat": 4,
 "nbformat_minor": 0
}
