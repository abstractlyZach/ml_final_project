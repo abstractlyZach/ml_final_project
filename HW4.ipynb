{
 "metadata": {
  "name": "",
  "signature": "sha256:c63876d9acd94a90324bdf483667bf9f4e6769211a8fe60942a1f1abc813f763"
 },
 "nbformat": 3,
 "nbformat_minor": 0,
 "worksheets": [
  {
   "cells": [
    {
     "cell_type": "code",
     "collapsed": false,
     "input": [
      "import numpy as np\n",
      "np.random.seed(0)\n",
      "import mltools as ml\n",
      "import matplotlib.pyplot as plt   # use matplotlib for plotting with inline plots\n",
      "%matplotlib inline\n",
      "\n",
      "import mltools.dtree as dt    # import decision tree code"
     ],
     "language": "python",
     "metadata": {},
     "outputs": [],
     "prompt_number": 1
    },
    {
     "cell_type": "code",
     "collapsed": false,
     "input": [
      "iris = np.genfromtxt(\"data/iris.txt\",delimiter=None)\n",
      "Y = iris[:,-1]\n",
      "X = iris[:,0:2]\n",
      "print Y.shape\n",
      "print X.shape\n",
      "print type(Y), type(X)"
     ],
     "language": "python",
     "metadata": {},
     "outputs": [
      {
       "output_type": "stream",
       "stream": "stdout",
       "text": [
        "(148,)\n",
        "(148, 2)\n",
        "<type 'numpy.ndarray'> <type 'numpy.ndarray'>\n"
       ]
      }
     ],
     "prompt_number": 2
    },
    {
     "cell_type": "code",
     "collapsed": false,
     "input": [
      "Xt = np.genfromtxt(\"../../data/kaggle.X1.train.txt\",delimiter=',') #X1 train\n",
      "Yt = np.genfromtxt(\"../../data/kaggle.Y.train.txt\", delimiter=',') #Y train\n",
      "print Xt.shape, Yt.shape"
     ],
     "language": "python",
     "metadata": {},
     "outputs": [
      {
       "output_type": "stream",
       "stream": "stdout",
       "text": [
        "(60000, 91) (60000,)\n"
       ]
      }
     ],
     "prompt_number": 3
    },
    {
     "cell_type": "code",
     "collapsed": false,
     "input": [
      "Xtr = Xt[0:48000]\n",
      "Xte = Xt[48000:]\n",
      "Ytr = Yt[0:48000]\n",
      "Yte = Yt[48000:]\n",
      "print Xtr.shape, Xte.shape, Ytr.shape, Yte.shape"
     ],
     "language": "python",
     "metadata": {},
     "outputs": [
      {
       "output_type": "stream",
       "stream": "stdout",
       "text": [
        "(48000, 91) (12000, 91) (48000,) (12000,)\n"
       ]
      }
     ],
     "prompt_number": 4
    },
    {
     "cell_type": "code",
     "collapsed": false,
     "input": [
      "learner = dt.treeRegress()\n",
      "learner.train(Xte,Yte,maxDepth=20)\n",
      "print \"Depth\", 20\n",
      "print \"MSE training =\", learner.mse(Xtr,Ytr);\n",
      "print \"MSE testing =\", learner.mse(Xte,Yte);"
     ],
     "language": "python",
     "metadata": {},
     "outputs": [
      {
       "output_type": "stream",
       "stream": "stdout",
       "text": [
        "Depth 20\n",
        "MSE training = "
       ]
      },
      {
       "output_type": "stream",
       "stream": "stdout",
       "text": [
        "0.777492341713\n",
        "MSE testing = "
       ]
      },
      {
       "output_type": "stream",
       "stream": "stdout",
       "text": [
        "0.0164070034014\n"
       ]
      }
     ],
     "prompt_number": 5
    },
    {
     "cell_type": "code",
     "collapsed": false,
     "input": [
      "for d in range(0,16):\n",
      "    learner.train(Xtr,Ytr,maxDepth=d)\n",
      "    print \"Depth\", d\n",
      "    print \"MSE training =\", learner.mse(Xtr,Ytr);\n",
      "    print \"MSE testing =\", learner.mse(Xte,Yte);"
     ],
     "language": "python",
     "metadata": {},
     "outputs": [
      {
       "output_type": "stream",
       "stream": "stdout",
       "text": [
        "Depth 0\n",
        "MSE training = 0.690830604333\n",
        "MSE testing = 0.718336698988\n",
        "Depth"
       ]
      },
      {
       "output_type": "stream",
       "stream": "stdout",
       "text": [
        " 1\n",
        "MSE training = 0.557937953351\n",
        "MSE testing = 0.57414551383\n",
        "Depth"
       ]
      },
      {
       "output_type": "stream",
       "stream": "stdout",
       "text": [
        " 2\n",
        "MSE training = "
       ]
      },
      {
       "output_type": "stream",
       "stream": "stdout",
       "text": [
        "0.505146872922\n",
        "MSE testing = 0.519822936078\n",
        "Depth"
       ]
      },
      {
       "output_type": "stream",
       "stream": "stdout",
       "text": [
        " 3\n",
        "MSE training = "
       ]
      },
      {
       "output_type": "stream",
       "stream": "stdout",
       "text": [
        "0.472694791396\n",
        "MSE testing = 0.483718589446\n",
        "Depth"
       ]
      },
      {
       "output_type": "stream",
       "stream": "stdout",
       "text": [
        " 4\n",
        "MSE training = "
       ]
      },
      {
       "output_type": "stream",
       "stream": "stdout",
       "text": [
        "0.451999080531\n",
        "MSE testing = 0.465591656337\n",
        "Depth"
       ]
      },
      {
       "output_type": "stream",
       "stream": "stdout",
       "text": [
        " 5\n",
        "MSE training = "
       ]
      },
      {
       "output_type": "stream",
       "stream": "stdout",
       "text": [
        "0.434261655119\n",
        "MSE testing = 0.455494004267\n",
        "Depth"
       ]
      },
      {
       "output_type": "stream",
       "stream": "stdout",
       "text": [
        " 6\n",
        "MSE training = "
       ]
      },
      {
       "output_type": "stream",
       "stream": "stdout",
       "text": [
        "0.418033072227\n",
        "MSE testing = 0.446586295059\n",
        "Depth"
       ]
      },
      {
       "output_type": "stream",
       "stream": "stdout",
       "text": [
        " 7\n",
        "MSE training = "
       ]
      },
      {
       "output_type": "stream",
       "stream": "stdout",
       "text": [
        "0.397270867629\n",
        "MSE testing = 0.435789921051\n",
        "Depth"
       ]
      },
      {
       "output_type": "stream",
       "stream": "stdout",
       "text": [
        " 8\n",
        "MSE training = "
       ]
      },
      {
       "output_type": "stream",
       "stream": "stdout",
       "text": [
        "0.377605899244\n",
        "MSE testing = 0.439538488143\n",
        "Depth"
       ]
      },
      {
       "output_type": "stream",
       "stream": "stdout",
       "text": [
        " 9\n",
        "MSE training = "
       ]
      },
      {
       "output_type": "stream",
       "stream": "stdout",
       "text": [
        "0.353318107334\n",
        "MSE testing = "
       ]
      },
      {
       "output_type": "stream",
       "stream": "stdout",
       "text": [
        "0.446228618954\n",
        "Depth"
       ]
      },
      {
       "output_type": "stream",
       "stream": "stdout",
       "text": [
        " 10\n",
        "MSE training = "
       ]
      },
      {
       "output_type": "stream",
       "stream": "stdout",
       "text": [
        "0.325181449932\n",
        "MSE testing = "
       ]
      },
      {
       "output_type": "stream",
       "stream": "stdout",
       "text": [
        "0.467305652595\n",
        "Depth"
       ]
      },
      {
       "output_type": "stream",
       "stream": "stdout",
       "text": [
        " 11\n",
        "MSE training = "
       ]
      },
      {
       "output_type": "stream",
       "stream": "stdout",
       "text": [
        "0.292045447153\n",
        "MSE testing = "
       ]
      },
      {
       "output_type": "stream",
       "stream": "stdout",
       "text": [
        "0.486180646902\n",
        "Depth"
       ]
      },
      {
       "output_type": "stream",
       "stream": "stdout",
       "text": [
        " 12\n",
        "MSE training = "
       ]
      },
      {
       "output_type": "stream",
       "stream": "stdout",
       "text": [
        "0.25577350274\n",
        "MSE testing = "
       ]
      },
      {
       "output_type": "stream",
       "stream": "stdout",
       "text": [
        "0.517997979708\n",
        "Depth"
       ]
      },
      {
       "output_type": "stream",
       "stream": "stdout",
       "text": [
        " 13\n",
        "MSE training = "
       ]
      },
      {
       "output_type": "stream",
       "stream": "stdout",
       "text": [
        "0.21704977081\n",
        "MSE testing = "
       ]
      },
      {
       "output_type": "stream",
       "stream": "stdout",
       "text": [
        "0.547246602674\n",
        "Depth"
       ]
      },
      {
       "output_type": "stream",
       "stream": "stdout",
       "text": [
        " 14\n",
        "MSE training = "
       ]
      },
      {
       "output_type": "stream",
       "stream": "stdout",
       "text": [
        "0.178769766513\n",
        "MSE testing = "
       ]
      },
      {
       "output_type": "stream",
       "stream": "stdout",
       "text": [
        "0.586257499931\n",
        "Depth"
       ]
      },
      {
       "output_type": "stream",
       "stream": "stdout",
       "text": [
        " 15\n",
        "MSE training = "
       ]
      },
      {
       "output_type": "stream",
       "stream": "stdout",
       "text": [
        "0.143374196578\n",
        "MSE testing = "
       ]
      },
      {
       "output_type": "stream",
       "stream": "stdout",
       "text": [
        "0.627791617293\n"
       ]
      }
     ],
     "prompt_number": 6
    },
    {
     "cell_type": "heading",
     "level": 4,
     "metadata": {},
     "source": [
      "Complexity increases as depth increases. \n",
      "Complexty decreases with the depth cut off\n",
      "The model begins overfitting around depth 8. That is when the MSE validation error changes from decreasing to increasing.\n",
      "If I was using this parameter for complexity control, I would choose depth 7."
     ]
    },
    {
     "cell_type": "code",
     "collapsed": false,
     "input": [
      "minParents = []\n",
      "for i in range(3,13):\n",
      "    minParents.append(2**i)\n",
      "\n",
      "for minP in minParents:\n",
      "    learner.train(Xtr,Ytr,maxDepth=20, minParent=minP)\n",
      "    print \"MinParent\", minP\n",
      "    print \"MSE training = \", learner.mse(Xtr,Ytr);\n",
      "    print \"MSE testing =\", learner.mse(Xte,Yte);\n",
      "    \n"
     ],
     "language": "python",
     "metadata": {},
     "outputs": [
      {
       "output_type": "stream",
       "stream": "stdout",
       "text": [
        "MinParent 8\n",
        "MSE training =  "
       ]
      },
      {
       "output_type": "stream",
       "stream": "stdout",
       "text": [
        "0.0685202168583\n",
        "MSE testing = "
       ]
      },
      {
       "output_type": "stream",
       "stream": "stdout",
       "text": [
        "0.687475967285\n",
        "MinParent"
       ]
      },
      {
       "output_type": "stream",
       "stream": "stdout",
       "text": [
        " 16\n",
        "MSE training =  "
       ]
      },
      {
       "output_type": "stream",
       "stream": "stdout",
       "text": [
        "0.114473602405\n",
        "MSE testing = "
       ]
      },
      {
       "output_type": "stream",
       "stream": "stdout",
       "text": [
        "0.646066184686\n",
        "MinParent"
       ]
      },
      {
       "output_type": "stream",
       "stream": "stdout",
       "text": [
        " 32\n",
        "MSE training =  "
       ]
      },
      {
       "output_type": "stream",
       "stream": "stdout",
       "text": [
        "0.174528116694\n",
        "MSE testing = "
       ]
      },
      {
       "output_type": "stream",
       "stream": "stdout",
       "text": [
        "0.586554789574\n",
        "MinParent"
       ]
      },
      {
       "output_type": "stream",
       "stream": "stdout",
       "text": [
        " 64\n",
        "MSE training =  "
       ]
      },
      {
       "output_type": "stream",
       "stream": "stdout",
       "text": [
        "0.235857352108\n",
        "MSE testing = "
       ]
      },
      {
       "output_type": "stream",
       "stream": "stdout",
       "text": [
        "0.525522948443\n",
        "MinParent"
       ]
      },
      {
       "output_type": "stream",
       "stream": "stdout",
       "text": [
        " 128\n",
        "MSE training =  "
       ]
      },
      {
       "output_type": "stream",
       "stream": "stdout",
       "text": [
        "0.295915474952\n",
        "MSE testing = "
       ]
      },
      {
       "output_type": "stream",
       "stream": "stdout",
       "text": [
        "0.476571235958\n",
        "MinParent"
       ]
      },
      {
       "output_type": "stream",
       "stream": "stdout",
       "text": [
        " 256\n",
        "MSE training =  "
       ]
      },
      {
       "output_type": "stream",
       "stream": "stdout",
       "text": [
        "0.348235854561\n",
        "MSE testing = "
       ]
      },
      {
       "output_type": "stream",
       "stream": "stdout",
       "text": [
        "0.440595346806\n",
        "MinParent"
       ]
      },
      {
       "output_type": "stream",
       "stream": "stdout",
       "text": [
        " 512\n",
        "MSE training =  "
       ]
      },
      {
       "output_type": "stream",
       "stream": "stdout",
       "text": [
        "0.381741317036\n",
        "MSE testing = "
       ]
      },
      {
       "output_type": "stream",
       "stream": "stdout",
       "text": [
        "0.430228638227\n",
        "MinParent"
       ]
      },
      {
       "output_type": "stream",
       "stream": "stdout",
       "text": [
        " 1024\n",
        "MSE training =  "
       ]
      },
      {
       "output_type": "stream",
       "stream": "stdout",
       "text": [
        "0.406693855413\n",
        "MSE testing = "
       ]
      },
      {
       "output_type": "stream",
       "stream": "stdout",
       "text": [
        "0.435509985835\n",
        "MinParent"
       ]
      },
      {
       "output_type": "stream",
       "stream": "stdout",
       "text": [
        " 2048\n",
        "MSE training =  "
       ]
      },
      {
       "output_type": "stream",
       "stream": "stdout",
       "text": [
        "0.422632798453\n",
        "MSE testing = "
       ]
      },
      {
       "output_type": "stream",
       "stream": "stdout",
       "text": [
        "0.443799183182\n",
        "MinParent"
       ]
      },
      {
       "output_type": "stream",
       "stream": "stdout",
       "text": [
        " 4096\n",
        "MSE training =  "
       ]
      },
      {
       "output_type": "stream",
       "stream": "stdout",
       "text": [
        "0.447114307615\n",
        "MSE testing = "
       ]
      },
      {
       "output_type": "stream",
       "stream": "stdout",
       "text": [
        "0.464656737793\n"
       ]
      }
     ],
     "prompt_number": 7
    },
    {
     "cell_type": "heading",
     "level": 4,
     "metadata": {},
     "source": [
      "Complexity decreases as minParent grows.\n",
      "Tne model begins to overfit when minParent is less than 256.\n",
      "I would use minparent = 512."
     ]
    },
    {
     "cell_type": "code",
     "collapsed": false,
     "input": [],
     "language": "python",
     "metadata": {},
     "outputs": [],
     "prompt_number": 7
    },
    {
     "cell_type": "code",
     "collapsed": false,
     "input": [
      "#Kaggle Submission\n",
      "# Xt = np.genfromtxt(\"../../data/kaggle.X1.train.txt\",delimiter=',') #X1 train\n",
      "# Yt = np.genfromtxt(\"../../data/kaggle.Y.train.txt\", delimiter=',') #Y train\n",
      "Xn = np.genfromtxt(\"../../data/kaggle.X1.names.txt\",delimiter=',') #X1 names\n",
      "XKaggle = np.genfromtxt(\"../../data/kaggle.X1.test.txt\",delimiter=',') #X1 test"
     ],
     "language": "python",
     "metadata": {},
     "outputs": [],
     "prompt_number": 8
    },
    {
     "cell_type": "code",
     "collapsed": false,
     "input": [
      "#Kaggle Submission\n",
      "\n",
      "learner.train(Xt,Yt,maxDepth=7)\n",
      "Ykaggle = learner.predict(XKaggle)\n",
      "print Ykaggle.shape\n",
      "Ye = []\n",
      "for i in Ykaggle:\n",
      "    Ye.append(i[0])\n",
      "fh = open('predictions.csv','w')\n",
      "fh.write('ID,Prediction\\n')\n",
      "for i,yi in enumerate(Ye):\n",
      "    fh.write('{},{}\\n'.format(i+1,yi))\n",
      "fh.close()\n",
      "#Kaggle Score 0.64402"
     ],
     "language": "python",
     "metadata": {},
     "outputs": [
      {
       "output_type": "stream",
       "stream": "stdout",
       "text": [
        "(40000, 1)\n"
       ]
      }
     ],
     "prompt_number": 9
    },
    {
     "cell_type": "code",
     "collapsed": false,
     "input": [
      "#learn regression predictor\n",
      "#compute err residual\n",
      "#learn to predict the residual\n",
      "#make a set oof predictions\n",
      "# Load data set X, Y \u2026\n",
      "\n",
      "Xtr = Xt[0:48000]\n",
      "Ytr = Yt[0:48000]\n",
      "Xte = Xt[48000:]\n",
      "Yte = Yt[48000:]\n",
      "print Xtr.shape, Ytr.shape\n",
      "print Xte.shape, Yte.shape\n",
      "\n",
      "nBoost = 25\n",
      "mu = Ytr.mean() # often start with constant \u201dmean\u201d predictor\n",
      "# dY = Ytr \u2013 mu # subtract this prediction away. This raised an error so using a for loop.\n",
      "dY = Ytr\n",
      "for i in range(len(dY)):\n",
      "    dY[i] = dY[i]-mu\n",
      "learners = []\n",
      "for i in range(25):\n",
      "    learners.append(dt.treeRegress())\n",
      "    \n",
      "Jtr = [] #store validation error\n",
      "Jte = []\n",
      "    \n",
      "for k in range( nBoost ):\n",
      "    learners[k].train(Xtr, dY, maxDepth = 3)\n",
      "    dY = dY - learners[k].predict(Xtr)[:,0] #SHAPE \n",
      "\n",
      "# # test on data Xtest\n",
      "mTest = Xtr.shape[0]\n",
      "predictTr = np.zeros( (mTest,) ) + mu\n",
      "mTest = Xte.shape[0] #of data\n",
      "predictTe = np.zeros( (mTest,) ) + mu # Allocate space for predictions & add 1st (mean)\n",
      "for k in range(nBoost): \n",
      "    predictTr += learners[k].predict(Xtr)[:,0] \n",
      "    Jtr.append(((Ytr-predictTr)**2).mean())\n",
      "    predictTe += learners[k].predict(Xte)[:,0] # Apply predictor of next residual & accum\n",
      "    Jte.append(((Yte-predictTe)**2).mean())\n",
      "\n",
      "plt.plot(range(len(Jtr)),Jtr, 'b-')\n",
      "plt.plot(range(len(Jte)), Jte, 'r-')\n",
      "plt.legend([\"Training Error\", \"Validation Error\"])\n",
      "\n",
      "plt.figure()"
     ],
     "language": "python",
     "metadata": {},
     "outputs": [
      {
       "output_type": "stream",
       "stream": "stdout",
       "text": [
        "(48000, 91) (48000,)\n",
        "(12000, 91) (12000,)\n"
       ]
      },
      {
       "metadata": {},
       "output_type": "pyout",
       "prompt_number": 10,
       "text": [
        "<matplotlib.figure.Figure at 0x17034e90>"
       ]
      },
      {
       "metadata": {},
       "output_type": "display_data",
       "png": "[encoded data removed]",
       "text": [
        "<matplotlib.figure.Figure at 0x54f9790>"
       ]
      },
      {
       "metadata": {},
       "output_type": "display_data",
       "text": [
        "<matplotlib.figure.Figure at 0x17034e90>"
       ]
      }
     ],
     "prompt_number": 10
    },
    {
     "cell_type": "code",
     "collapsed": false,
     "input": [
      "Xn = np.genfromtxt(\"../../data/kaggle.X1.names.txt\",delimiter=',') #X1 names\n",
      "XKaggle = np.genfromtxt(\"../../data/kaggle.X1.test.txt\",delimiter=',') #X1 test"
     ],
     "language": "python",
     "metadata": {},
     "outputs": [],
     "prompt_number": 11
    },
    {
     "cell_type": "code",
     "collapsed": false,
     "input": [
      "#Kaggle Submission\n",
      "\n",
      "nBoost = 25\n",
      "mu = Yt.mean() # often start with constant \u201dmean\u201d predictor\n",
      "# dY = Ytr \u2013 mu # subtract this prediction away. This raised an error so using a for loop.\n",
      "dY = Yt\n",
      "for i in range(len(dY)):\n",
      "    dY[i] = dY[i]-mu\n",
      "learners = []\n",
      "for i in range(25):\n",
      "    learners.append(dt.treeRegress())    \n",
      "for k in range( nBoost ):\n",
      "    learners[k].train(Xt, dY, maxDepth = 3)\n",
      "    dY = dY - learners[k].predict(Xt)[:,0] #SHAPE \n",
      "\n",
      "# # test on data Xtest\n",
      "mTest = XKaggle.shape[0]\n",
      "predict = np.zeros( (mTest,) ) + mu\n",
      "\n",
      "for k in range(nBoost): #1,5,\n",
      "    predict += learners[k].predict(XKaggle)[:,0]\n",
      "    \n",
      "fh = open('predictions_gradientBoosting.csv', 'w')\n",
      "fh.write('ID,Prediction\\n')\n",
      "\n",
      "for i,yi in enumerate(predict):\n",
      "    fh.write('{},{}\\n'.format(i+1, yi))\n",
      "fh.close()\n",
      "\n",
      "#Kaggle Score 0.92109"
     ],
     "language": "python",
     "metadata": {},
     "outputs": [],
     "prompt_number": 12
    }
   ],
   "metadata": {}
  }
 ]
}